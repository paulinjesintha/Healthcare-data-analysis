{
 "cells": [
  {
   "cell_type": "markdown",
   "id": "f06f4a4b-f09c-4ac7-a050-86ed5b3de85f",
   "metadata": {},
   "source": [
    "<h2><center> Identifying Inefficiencies in Medicare Healthcare <br> Resource Utilisation and Costs </center></h2>"
   ]
  },
  {
   "cell_type": "markdown",
   "id": "778bd14a-11b3-48fa-a346-5a4f7394ea8d",
   "metadata": {},
   "source": [
    "<center> Team Members: Srujana Gali,  Paulin Jesintha Mariadoss, Weichu Zou, Yuesen Zhang </center>"
   ]
  },
  {
   "cell_type": "markdown",
   "id": "f05c9c34-5c07-44ea-a8e5-adc5e2eb05e9",
   "metadata": {},
   "source": [
    "## Table of Contents"
   ]
  },
  {
   "cell_type": "markdown",
   "id": "db0b369f-14f1-47aa-96f0-baddf9ca3e00",
   "metadata": {},
   "source": [
    "- Introduction \n",
    "\n",
    "- Importing the Data \n",
    "\n",
    "- Data Cleaning \n",
    "\n",
    "- Data Exploration \n",
    "\n",
    "- Conclusion\n",
    "\n",
    "- Reference\n"
   ]
  },
  {
   "cell_type": "markdown",
   "id": "f82d07dc-9375-49ec-804b-c8261d2ca3bf",
   "metadata": {},
   "source": [
    "## I. Introduction"
   ]
  },
  {
   "cell_type": "markdown",
   "id": "4b92a781-86a0-4177-8e0e-ccbb61bcd7ef",
   "metadata": {},
   "source": [
    "### Motivation"
   ]
  },
  {
   "cell_type": "markdown",
   "id": "f12606c4-68fe-485e-a43f-4dfc71ca9e93",
   "metadata": {},
   "source": [
    "One of the biggest and most intricate sectors in the world, the healthcare sector has a vast number of players and moving elements. In the US, millions of people with needs are covered by the government-funded Medicare insurance program. In order to detect potential inefficiencies and consider solutions for lowering healthcare costs while preserving the quality of treatment, it is critical to examine how hospital resources are used and the cost of care for Medicare inpatients and outpatients."
   ]
  },
  {
   "cell_type": "markdown",
   "id": "86c4ee76-1106-432e-8e0c-69c189268f95",
   "metadata": {},
   "source": [
    "### Project Goal"
   ]
  },
  {
   "cell_type": "markdown",
   "id": "f9a4ed75-e050-48dd-aff2-d3d3c7c91592",
   "metadata": {},
   "source": [
    "Through this project, our team aims to collect and analyze data on various healthcare utilization and cost metrics for Medicare inpatients and outpatients across different healthcare settings, such as hospitals, nursing facilities, home health agencies, and hospice providers. By examining this data, we may spot patterns and trends in healthcare spending and utilization and potential improvement areas. The ultimate purpose of this project is to assist decision-makers in the healthcare industry in better resource allocation and enhancement of the quality and cost-effectiveness of Medicare beneficiary healthcare."
   ]
  },
  {
   "cell_type": "markdown",
   "id": "da6c1579-189c-46b4-9c66-790fa2053c56",
   "metadata": {},
   "source": [
    "### Dataset"
   ]
  },
  {
   "cell_type": "markdown",
   "id": "078b5f41-4205-4a8a-8bc9-d8ad36f86d33",
   "metadata": {},
   "source": [
    "About the Data:\n",
    "The data is sourced from the Medicare dataset - \"bigquery-public-data.cms_medicare\" dataset, hosted on Google BigQuery.\n",
    "\n",
    "Data Source Link: \n",
    "https://www.cms.gov/Research-Statistics-Data-and-Systems/Statistics-Trends-and-Reports/Medicare-Provider-Charge-Data/index.html \n",
    "\n",
    "• The total number of rows for this project is 52,722,075 and the data is approximately 10 GB.<br> \n",
    "• The number of columns for the physician's table is 28.<br> \n",
    "• The number of columns for the outpatient charges table is 11.<br> \n",
    "• The number of columns for the inpatient charges table is 12."
   ]
  },
  {
   "cell_type": "markdown",
   "id": "1eab6859-3bf7-4c56-aa43-d10b4c9287bb",
   "metadata": {},
   "source": [
    "### Data dictionary"
   ]
  },
  {
   "cell_type": "markdown",
   "id": "a0d0662f-afd1-4972-b398-a92e242c7540",
   "metadata": {},
   "source": [
    "#### hospital_general_info"
   ]
  },
  {
   "cell_type": "markdown",
   "id": "9bb62cde-ddf9-47c4-985f-d56521a72e73",
   "metadata": {},
   "source": [
    "Data dictionary for hospital_general_info dataset"
   ]
  },
  {
   "cell_type": "markdown",
   "id": "ac768258-a499-4ac5-92fb-2b15873d0a49",
   "metadata": {},
   "source": [
    "|Column|Description|\n",
    "|--|--|\n",
    "|provider_id|ID for the data.|\n",
    "|hospital_name|The name of the hospital.\n",
    "|address|The address of the hopital.|\n",
    "|city|The city of the hospital.\n",
    "|state|The state of the hospital.|\n",
    "|zip_code|The zip_code of the hospital.|\n",
    "|county_name|The county_name of the hospital.|\n",
    "|phone_number|The phone_number of the hospital.|\n",
    "|hospital_type|The type of the hospital(Acute Care Hospitals, Critical Access Hospitals).|\n",
    "|hospital_ownership|The ownership of the hospital(Government-Federal, Government- Hospital District or Authority, Government-local, Government-State, Physician, Proprietary, Tribal, Voluntary non-profit-church, Voluntary non-profit-other, Voluntary non-profit- Private)|\n",
    "|emergency_services|Whether the hopital has emergency services.|\n",
    "|hospital_overall_rating|The overall rating of the hopital.|\n",
    "|mortality_group_measure_count|Count of measures included in the Mortality measure group.|\n",
    "|facility_mortaility_measures_count|Number of Mortality measures used in the hospital’s overall star rating.|\n",
    "|mortality_measures_better_count|Number of Mortality measures that are better than the national value.|\n",
    "|mortality_measures_no_different_count|Number of Mortality measures that are no different than the national value.|\n",
    "|mortality_measures_worse_count|Number of Mortality measures that are worse than the national value.|\n",
    "|safety_measures_count|Count of measures included in the Safety of Care measure group.|\n",
    "|facility_care_safety_measures_count|Number of Safety of care measures used in the hospital’s overall star rating.|\n",
    "|safety_measures_better_count| Number of Safety of care measures that are better than the national value.|\n",
    "|safety_measures_no_different_count|Number of Safety of care measures that are no different than the national value.|\n",
    "|readmission_measures_count|Count of measures included in the Readmission measure group.|\n",
    "|facility_readmission_measures_count|Number of Readmission measures used in the hospital’s overall star rating.|\n",
    "|readmission_measures_better_count|Number of Readmission measures that are better than the national value.|\n",
    "|readmission_measures_no_different_count|Number of Readmission measures that are no different than the national value.|\n",
    "|readmission_measures_worse_count|Number of Readmission measures that are worse than the national value.|\n",
    "|patient_experience_measures_count|Count of measures included in the Patient experience measure group.|\n",
    "|facility_patient_experience_measures_count|Number of Patient experience measures used in the hospital’s overall star rating|\n",
    "|timely_and_effective_care_measures_count|Count of measures included in the Timely and effective care measure group.|\n",
    "|facility_timely_and_effective_care_measures_countse_count|Number of Timely and effective care measures used in the hospital’s overall star rating.|"
   ]
  },
  {
   "cell_type": "markdown",
   "id": "95d6a9ac-c4c0-443d-a556-2f4ee4ba71bc",
   "metadata": {},
   "source": [
    "#### inpatient_data"
   ]
  },
  {
   "cell_type": "markdown",
   "id": "6e48f83d-7415-4186-93fa-4364065bad25",
   "metadata": {},
   "source": [
    "Data dictionary for inpatient data"
   ]
  },
  {
   "cell_type": "markdown",
   "id": "0a7c3234-7298-4169-9d18-d00f447982df",
   "metadata": {},
   "source": [
    "|Column|Description|\n",
    "|--|--|\n",
    "|provider_id|\tThe CMS Certification Number (CCN) of the provider billing for outpatient hospital services|\n",
    "|provider_name|\tThe name of the provider|\n",
    "|provider_street_address|\tThe street address in which the provider is physically located|\n",
    "|provider_city|\tThe city in which the provider is physically located|\n",
    "|provider_state|\tThe state in which the provider is physically located|\n",
    "|provider_zipcode|\tThe zip code in which the provider is physically located|\n",
    "|drg_definition|\tThe code and description identifying the MS-DRG. MS-DRGs are a classification system that groups similar clinical conditions (diagnoses) and the procedures furnished by the hospital during the stay|\n",
    "|hospital_referral_region_description|\tThe Hospital Referral Region (HRR) in which the provider is physically located|\n",
    "|total_discharges|\tThe number of discharges billed by the provider for inpatient hospital services|\n",
    "|averaged_covered_charges|\tThe provider's average charge for services covered by Medicare for all discharges in the MS-DRG. These will vary from hospital to hospital because of differences in hospital charge structures|\n",
    "|averaged_total_payments|\tThe average total payments to all providers for the MS-DRG including the MSDRG amount, teaching, disproportionate share, capital, and outlier payments for all cases. Also included 5 in average total payments are co-payment and deductible amounts that the patient is responsible for and any additional payments by third parties for coordination of benefits|\n",
    "|averaged_medicare_payments|\tThe average amount that Medicare pays to the provider for Medicare's share of the MS-DRG. Average Medicare payment amounts include the MS-DRG amount, teaching, disproportionate share, capital, and outlier payments for all cases. Medicare payments DO NOT include beneficiary co-payments and deductible amounts nor any additional payments from third parties for coordination of benefits\t|"
   ]
  },
  {
   "cell_type": "markdown",
   "id": "b1a25037-3ec1-42ec-bb51-12442c50d572",
   "metadata": {},
   "source": [
    "#### outpatient_data"
   ]
  },
  {
   "cell_type": "markdown",
   "id": "0af660a1-e10f-4b89-b063-3bd0427da308",
   "metadata": {},
   "source": [
    "Data dictionary for outpatient data"
   ]
  },
  {
   "cell_type": "markdown",
   "id": "a9c3b799-09f2-49a7-94b1-b72011555711",
   "metadata": {},
   "source": [
    "|Column Name|Description|\n",
    "|--|--|\n",
    "|provider_id|\tID for the data|\n",
    "|provider_name|\tThe name of the provider|\n",
    "|provider_street_address|\tThe street address of the provider|\n",
    "|provider_city|\tThe city of the provider\n",
    "|provider_state|\tThe state of the provider|\n",
    "|provider_zipcode|\tThe zip code of the provider|\n",
    "|apc|The code and description identifying the MS-DRG|\n",
    "|hospital_referral_region|\tThe region of the hospital referral|\n",
    "|outpatient_services|\tThe number of discharges billed by the provider for inpatient hospital services|                       \n",
    "|average_estimated_submitted_charges|\tThe average estimated submitted charges |\n",
    "|average_total_payments|\tAverage total payments|"
   ]
  },
  {
   "cell_type": "markdown",
   "id": "1fae9c67-7812-476a-be16-de5c3bf036fc",
   "metadata": {},
   "source": [
    "#### physicians_data"
   ]
  },
  {
   "cell_type": "markdown",
   "id": "bd5c5ec3-41d6-4fa7-9eb1-950e9a53a76f",
   "metadata": {},
   "source": [
    "Data Dictionary for physicians dataset"
   ]
  },
  {
   "cell_type": "markdown",
   "id": "686e8015-5043-4de2-9a40-592562237bc0",
   "metadata": {},
   "source": [
    "|Column|Description|\n",
    "|--|--|\n",
    "|npi|\tNational Provider Identifier, a unique identification number for healthcare providers.|\n",
    "|nppes_provider_last_org_name|\tThe last name or organization name of the healthcare provider.|\n",
    "|nppes_provider_first_name|\tThe first name of the healthcare provider.|\n",
    "|nppes_provider_mi|\tThe middle initial of the healthcare provider.|\n",
    "|nppes_credentials|\tThe credentials or degrees of the healthcare provider.|\n",
    "|nppes_provider_gender |\tThe gender of the healthcare provider.|\n",
    "|nppes_entity_code|\tThe code representing the type of healthcare provider.|\n",
    "|nppes_provider_street1|\tThe street address of the healthcare provider.|\n",
    "|nppes_provider_street2|\tAdditional street address information of the healthcare provider.|\n",
    "|nppes_provider_city|\tThe city where the healthcare provider is located.|\n",
    "|nppes_provider_zip|\tThe ZIP code of the healthcare provider.|\n",
    "|nppes_provider_state|\tThe state where the healthcare provider is located.|\n",
    "|nppes_provider_country|\tThe country where the healthcare provider is located.|\n",
    "|provider_type|\tThe type of healthcare provider.|\n",
    "|medicare_participation_indicator|\tWhether or not the healthcare provider participates in the Medicare program.|\n",
    "|place_of_service|\tThe place where the service was performed (e.g., office, hospital, nursing facility).|\n",
    "|hcpcs_code |\tThe Healthcare Common Procedure Coding System (HCPCS) code for the service provided.|\n",
    "|hcpcs_description|\tA description of the service provided.|\n",
    "|hcpcs_drug_indicator|\tWhether the service provided was a drug or biological.|\n",
    "|line_srvc_cnt|\tThe number of services provided.|\n",
    "|bene_unique_cnt|\tThe number of unique beneficiaries who received the service.|\n",
    "|bene_day_srvc_cnt|\tThe number of days on which the service was provided|.\n",
    "|average_medicare_allowed_amt|\t The average amount allowed by Medicare for the service provided.\n",
    "|stdev_medicare_allowed_amt|\t The standard deviation of the Medicare allowed amount for the service provided.\n",
    "|average_submitted_chrg_amt|\t The average charge submitted for the service provided.\n",
    "|stdev_submitted_chrg_amt|\t The standard deviation of the submitted charge for the service provided.\n",
    "|average_medicare_payment_amt|\t The average amount paid by Medicare for the service provided.\n",
    "|stdev_medicare_payment_amt|\t The standard deviation of the Medicare payment for the service provided.\n",
    "|average_medicare_standard_amt|\t The average amount that Medicare paid for the healthcare service provided after adjusting for geographic differences in payment rates.    \n",
    " "
   ]
  },
  {
   "cell_type": "markdown",
   "id": "5a1413f4-6530-425e-bba0-e3ccec629dff",
   "metadata": {},
   "source": [
    "## II. Importing Data"
   ]
  },
  {
   "cell_type": "markdown",
   "id": "701aa6bd-8910-41f9-82e5-566cefa6fa08",
   "metadata": {},
   "source": [
    "Before importing the data, let's set the style for the graphs and plots."
   ]
  },
  {
   "cell_type": "code",
   "execution_count": 8,
   "id": "98436115-982d-4c4c-924a-c2925fcf8e23",
   "metadata": {},
   "outputs": [],
   "source": [
    "import matplotlib.pyplot as plt\n",
    "plt.style.use('seaborn-whitegrid')\n",
    "plt.rcParams['axes.facecolor'] = '#f2f2f2'\n",
    "plt.rcParams['axes.edgecolor'] = '#666666'\n",
    "plt.rcParams['figure.facecolor'] = '#f2f2f2'\n",
    "plt.rcParams['grid.color'] = '#cbcbcb'\n",
    "plt.rcParams['xtick.color'] = '#666666'\n",
    "plt.rcParams['ytick.color'] = '#666666'\n",
    "plt.rcParams['text.color'] = '#666666'"
   ]
  },
  {
   "cell_type": "markdown",
   "id": "b64c43b3-70eb-4e47-91f3-850ef8f587ba",
   "metadata": {},
   "source": [
    "We imported the 4 main categories (hospital_general_info, inpatient_charges, outpatient_charges, physicians_and_other_supplier) of data from BigQuery. Within inpatient_charges, outpatient_charges, and physicians_and_other_supplier categories, they all have 4 tables for each (year 2012 to 2015)."
   ]
  },
  {
   "cell_type": "code",
   "execution_count": 9,
   "id": "e4636ea4-0f2a-4def-9796-eb30542a3dd8",
   "metadata": {},
   "outputs": [],
   "source": [
    "#packages\n",
    "from pyspark.sql import SparkSession\n",
    "from pyspark.sql.functions import col, sum\n",
    "import pandas as pd\n",
    "import numpy as np\n",
    "spark = SparkSession.builder.appName(\"read_from_bigquery\").getOrCreate()"
   ]
  },
  {
   "cell_type": "markdown",
   "id": "81596f67-ab89-4f21-bc31-f4d846ca72f7",
   "metadata": {
    "tags": []
   },
   "source": [
    "### Importing \"hospital_general_info\" datasets"
   ]
  },
  {
   "cell_type": "code",
   "execution_count": 10,
   "id": "f0573893-65ec-478b-8f1e-6836e79eb95e",
   "metadata": {},
   "outputs": [],
   "source": [
    "hospital_general_info = spark.read.format(\"bigquery\") \\\n",
    "    .option(\"table\", \"bigquery-public-data.cms_medicare.hospital_general_info\") \\\n",
    "    .load()"
   ]
  },
  {
   "cell_type": "markdown",
   "id": "a1e1fa3e-2d31-4731-be36-68712d8c1de4",
   "metadata": {
    "tags": []
   },
   "source": [
    "### Importing \"inpatient_charges\" datasets"
   ]
  },
  {
   "cell_type": "code",
   "execution_count": 11,
   "id": "7b63b1de-39df-4241-9078-c0834bf7a130",
   "metadata": {},
   "outputs": [],
   "source": [
    "inpatient_2012 = spark.read.format(\"bigquery\") \\\n",
    "                           .option(\"table\", \"bigquery-public-data.cms_medicare.inpatient_charges_2012\") \\\n",
    "                           .load()\n",
    "\n",
    "inpatient_2013 = spark.read.format(\"bigquery\") \\\n",
    "                           .option(\"table\", \"bigquery-public-data.cms_medicare.inpatient_charges_2013\") \\\n",
    "                           .load()\n",
    "\n",
    "inpatient_2014 = spark.read.format(\"bigquery\") \\\n",
    "                           .option(\"table\", \"bigquery-public-data.cms_medicare.inpatient_charges_2014\") \\\n",
    "                           .load()\n",
    "\n",
    "inpatient_2015 = spark.read.format(\"bigquery\") \\\n",
    "                           .option(\"table\", \"bigquery-public-data.cms_medicare.inpatient_charges_2015\") \\\n",
    "                           .load()"
   ]
  },
  {
   "cell_type": "markdown",
   "id": "fbce95ad-02a8-408a-8c7a-ad475eac4af7",
   "metadata": {
    "tags": []
   },
   "source": [
    "### Importing \"outpatient_charges\" datasets"
   ]
  },
  {
   "cell_type": "code",
   "execution_count": 12,
   "id": "8d525166-ff99-47d5-bb13-4877dd1f06c1",
   "metadata": {},
   "outputs": [],
   "source": [
    "outpatient_2012 = spark.read.format(\"bigquery\") \\\n",
    "                           .option(\"table\", \"bigquery-public-data.cms_medicare.outpatient_charges_2012\") \\\n",
    "                           .load()\n",
    "\n",
    "outpatient_2013 = spark.read.format(\"bigquery\") \\\n",
    "                           .option(\"table\", \"bigquery-public-data.cms_medicare.outpatient_charges_2013\") \\\n",
    "                           .load()\n",
    "\n",
    "outpatient_2014 = spark.read.format(\"bigquery\") \\\n",
    "                           .option(\"table\", \"bigquery-public-data.cms_medicare.outpatient_charges_2014\") \\\n",
    "                           .load()\n",
    "\n",
    "outpatient_2015 = spark.read.format(\"bigquery\") \\\n",
    "                           .option(\"table\", \"bigquery-public-data.cms_medicare.outpatient_charges_2015\") \\\n",
    "                           .load()"
   ]
  },
  {
   "cell_type": "markdown",
   "id": "069a38a7-fa5d-490b-90c1-f1707ccdf5e0",
   "metadata": {
    "tags": []
   },
   "source": [
    "### Importing \"physicians_and_other_supplier\" datasets"
   ]
  },
  {
   "cell_type": "code",
   "execution_count": 13,
   "id": "7fec65cd-3e27-4084-96b1-8950feea4ac0",
   "metadata": {},
   "outputs": [],
   "source": [
    "physicians_and_other_supplier_2012 = spark.read.format(\"bigquery\") \\\n",
    "    .option(\"table\", \"bigquery-public-data.cms_medicare.physicians_and_other_supplier_2012\") \\\n",
    "    .load()\n",
    "\n",
    "physicians_and_other_supplier_2013 = spark.read.format(\"bigquery\") \\\n",
    "    .option(\"table\", \"bigquery-public-data.cms_medicare.physicians_and_other_supplier_2013\") \\\n",
    "    .load()\n",
    "\n",
    "physicians_and_other_supplier_2014 = spark.read.format(\"bigquery\") \\\n",
    "    .option(\"table\", \"bigquery-public-data.cms_medicare.physicians_and_other_supplier_2014\") \\\n",
    "    .load()\n",
    "\n",
    "physicians_and_other_supplier_2015 = spark.read.format(\"bigquery\") \\\n",
    "    .option(\"table\", \"bigquery-public-data.cms_medicare.physicians_and_other_supplier_2015\") \\\n",
    "    .load()"
   ]
  },
  {
   "cell_type": "markdown",
   "id": "f8d9de1f-97fc-4fe7-b5ae-d9276de4658b",
   "metadata": {
    "tags": []
   },
   "source": [
    "## III. Data Cleaning"
   ]
  },
  {
   "cell_type": "markdown",
   "id": "227fded6-90d7-4c27-92a3-add5ff4d1cf1",
   "metadata": {},
   "source": [
    "Data cleansing was necessary for our project, which allowed for a more thorough review of the data. The following is a list of some of the typical data-cleansing procedures the team carried out:<br> \n",
    "• Renamed columns to ensure consistency <br> \n",
    "• Removed null values wherever necessary<br> \n",
    "• Filtered data to only include values corresponding to the USA\n",
    "\n",
    "**Data Transformations:**<br> \n",
    "Included a “year” column on all datasets for easy merging and references"
   ]
  },
  {
   "cell_type": "markdown",
   "id": "e275b162-d964-4e36-bb58-637bff3e5ecd",
   "metadata": {
    "tags": []
   },
   "source": [
    "### hospital_general_info"
   ]
  },
  {
   "cell_type": "markdown",
   "id": "5d25dd04-662c-4db8-89d7-d977d5b5dcfe",
   "metadata": {
    "tags": []
   },
   "source": [
    "#### Checking null values"
   ]
  },
  {
   "cell_type": "code",
   "execution_count": 14,
   "id": "28c25c99-c779-467f-a18d-9df28478f543",
   "metadata": {},
   "outputs": [
    {
     "name": "stderr",
     "output_type": "stream",
     "text": [
      "23/04/04 04:23:28 WARN package: Truncated the string representation of a plan since it was too large. This behavior can be adjusted by setting 'spark.sql.debug.maxToStringFields'.\n",
      "[Stage 1:>                                                          (0 + 1) / 1]\r"
     ]
    },
    {
     "name": "stdout",
     "output_type": "stream",
     "text": [
      "-RECORD 0-----------------------------------------------------\n",
      " provider_id                                           | 0    \n",
      " hospital_name                                         | 0    \n",
      " address                                               | 0    \n",
      " city                                                  | 0    \n",
      " state                                                 | 0    \n",
      " zip_code                                              | 0    \n",
      " county_name                                           | 0    \n",
      " phone_number                                          | 0    \n",
      " hospital_type                                         | 0    \n",
      " hospital_ownership                                    | 0    \n",
      " emergency_services                                    | 0    \n",
      " meets_criteria_for_promoting_interoperability_of_ehrs | 1450 \n",
      " hospital_overall_rating                               | 0    \n",
      " hospital_overall_rating_footnote                      | 3270 \n",
      " mortality_group_measure_count                         | 0    \n",
      " facility_mortaility_measures_count                    | 0    \n",
      " mortality_measures_better_count                       | 0    \n",
      " mortality_measures_no_different_count                 | 0    \n",
      " mortality_measures_worse_count                        | 0    \n",
      " mortaility_group_footnote                             | 3963 \n",
      " safety_measures_count                                 | 0    \n",
      " facility_care_safety_measures_count                   | 0    \n",
      " safety_measures_better_count                          | 0    \n",
      " safety_measures_no_different_count                    | 0    \n",
      " safety_measures_worse_count                           | 0    \n",
      " safety_group_footnote                                 | 3555 \n",
      " readmission_measures_count                            | 0    \n",
      " facility_readmission_measures_count                   | 0    \n",
      " readmission_measures_better_count                     | 0    \n",
      " readmission_measures_no_different_count               | 0    \n",
      " readmission_measures_worse_count                      | 0    \n",
      " readmission_measures_footnote                         | 4353 \n",
      " patient_experience_measures_count                     | 0    \n",
      " facility_patient_experience_measures_count            | 0    \n",
      " patient_experience_measures_footnote                  | 3291 \n",
      " timely_and_effective_care_measures_count              | 0    \n",
      " facility_timely_and_effective_care_measures_count     | 0    \n",
      " timely_and_effective_care_measures_footnote           | 4407 \n",
      "\n"
     ]
    },
    {
     "name": "stderr",
     "output_type": "stream",
     "text": [
      "                                                                                \r"
     ]
    }
   ],
   "source": [
    "from pyspark.sql import SparkSession\n",
    "from pyspark.sql.functions import col, sum\n",
    "\n",
    "# Check for null values in each column\n",
    "null_counts = hospital_general_info.select([sum(col(c).isNull().cast(\"int\")).alias(c) for c in hospital_general_info.columns])\n",
    "null_counts.show(vertical=True, truncate=False)\n"
   ]
  },
  {
   "cell_type": "markdown",
   "id": "2c9ff2bb-2d16-4277-8b3f-5506adbb9aa3",
   "metadata": {},
   "source": [
    "We observed that meets_criteria_for_promoting_interoperability_of_ehrs has 1450 null values, hospital_overall_rating_footnote has 3270 null values, mortaility_group_footnote has 3963 null value, safety_group_footnote has 3555 null values, readmission_measures_footnote 4353 null values, patient_experience_measures_footnote has 3291 null value, timely_and_effective_care_measures_footnote has 4407 null values."
   ]
  },
  {
   "cell_type": "code",
   "execution_count": 15,
   "id": "68d3ceba-2aef-43ee-a664-4f8125cbb261",
   "metadata": {},
   "outputs": [],
   "source": [
    "#Dropping all the rows with null value\n",
    "hospital_general_info = hospital_general_info.drop(\"meets_criteria_for_promoting_interoperability_of_ehrs\")\n",
    "hospital_general_info = hospital_general_info.drop(\"hospital_overall_rating_footnote\")\n",
    "hospital_general_info = hospital_general_info.drop(\"mortaility_group_footnote\")\n",
    "hospital_general_info = hospital_general_info.drop(\"safety_group_footnote\")\n",
    "hospital_general_info = hospital_general_info.drop(\"readmission_measures_footnote\")\n",
    "hospital_general_info = hospital_general_info.drop(\"patient_experience_measures_footnote\")\n",
    "hospital_general_info = hospital_general_info.drop(\"timely_and_effective_care_measures_footnote\")\n"
   ]
  },
  {
   "cell_type": "markdown",
   "id": "067a7016-a09a-4c50-b24e-ce8a4f865360",
   "metadata": {},
   "source": [
    "For meets_criteria_for_promoting_interoperability_of_ehrs coulmn, we did not use it for analysis and it has null values then we drop it. Also, the column with over 50% null value then we drop it. "
   ]
  },
  {
   "cell_type": "code",
   "execution_count": 16,
   "id": "d075a8a0-e486-48f7-9694-917e9f5bff7f",
   "metadata": {},
   "outputs": [
    {
     "name": "stdout",
     "output_type": "stream",
     "text": [
      "-RECORD 0------------------------------------------------\n",
      " provider_id                                       | 0   \n",
      " hospital_name                                     | 0   \n",
      " address                                           | 0   \n",
      " city                                              | 0   \n",
      " state                                             | 0   \n",
      " zip_code                                          | 0   \n",
      " county_name                                       | 0   \n",
      " phone_number                                      | 0   \n",
      " hospital_type                                     | 0   \n",
      " hospital_ownership                                | 0   \n",
      " emergency_services                                | 0   \n",
      " hospital_overall_rating                           | 0   \n",
      " mortality_group_measure_count                     | 0   \n",
      " facility_mortaility_measures_count                | 0   \n",
      " mortality_measures_better_count                   | 0   \n",
      " mortality_measures_no_different_count             | 0   \n",
      " mortality_measures_worse_count                    | 0   \n",
      " safety_measures_count                             | 0   \n",
      " facility_care_safety_measures_count               | 0   \n",
      " safety_measures_better_count                      | 0   \n",
      " safety_measures_no_different_count                | 0   \n",
      " safety_measures_worse_count                       | 0   \n",
      " readmission_measures_count                        | 0   \n",
      " facility_readmission_measures_count               | 0   \n",
      " readmission_measures_better_count                 | 0   \n",
      " readmission_measures_no_different_count           | 0   \n",
      " readmission_measures_worse_count                  | 0   \n",
      " patient_experience_measures_count                 | 0   \n",
      " facility_patient_experience_measures_count        | 0   \n",
      " timely_and_effective_care_measures_count          | 0   \n",
      " facility_timely_and_effective_care_measures_count | 0   \n",
      "\n"
     ]
    }
   ],
   "source": [
    "#Checking null values\n",
    "null_counts = hospital_general_info.select([sum(col(c).isNull().cast(\"int\")).alias(c) for c in hospital_general_info.columns])\n",
    "null_counts.show(vertical=True, truncate=False)"
   ]
  },
  {
   "cell_type": "markdown",
   "id": "b7690f6d-0eb6-41d8-8e23-95137a3f1778",
   "metadata": {},
   "source": [
    "Now, the dataset is cleaned and we can do further exploration."
   ]
  },
  {
   "cell_type": "markdown",
   "id": "fe201f85-d150-4c13-bd35-40da9cf7184f",
   "metadata": {},
   "source": [
    "Checking the data schema"
   ]
  },
  {
   "cell_type": "code",
   "execution_count": 17,
   "id": "a8912a3b-448c-4ea9-8fb5-f4b05b0240fd",
   "metadata": {},
   "outputs": [
    {
     "name": "stdout",
     "output_type": "stream",
     "text": [
      "root\n",
      " |-- provider_id: string (nullable = true)\n",
      " |-- hospital_name: string (nullable = true)\n",
      " |-- address: string (nullable = true)\n",
      " |-- city: string (nullable = true)\n",
      " |-- state: string (nullable = true)\n",
      " |-- zip_code: string (nullable = true)\n",
      " |-- county_name: string (nullable = true)\n",
      " |-- phone_number: string (nullable = true)\n",
      " |-- hospital_type: string (nullable = true)\n",
      " |-- hospital_ownership: string (nullable = true)\n",
      " |-- emergency_services: boolean (nullable = true)\n",
      " |-- hospital_overall_rating: string (nullable = true)\n",
      " |-- mortality_group_measure_count: string (nullable = true)\n",
      " |-- facility_mortaility_measures_count: string (nullable = true)\n",
      " |-- mortality_measures_better_count: string (nullable = true)\n",
      " |-- mortality_measures_no_different_count: string (nullable = true)\n",
      " |-- mortality_measures_worse_count: string (nullable = true)\n",
      " |-- safety_measures_count: string (nullable = true)\n",
      " |-- facility_care_safety_measures_count: string (nullable = true)\n",
      " |-- safety_measures_better_count: string (nullable = true)\n",
      " |-- safety_measures_no_different_count: string (nullable = true)\n",
      " |-- safety_measures_worse_count: string (nullable = true)\n",
      " |-- readmission_measures_count: string (nullable = true)\n",
      " |-- facility_readmission_measures_count: string (nullable = true)\n",
      " |-- readmission_measures_better_count: string (nullable = true)\n",
      " |-- readmission_measures_no_different_count: string (nullable = true)\n",
      " |-- readmission_measures_worse_count: string (nullable = true)\n",
      " |-- patient_experience_measures_count: string (nullable = true)\n",
      " |-- facility_patient_experience_measures_count: string (nullable = true)\n",
      " |-- timely_and_effective_care_measures_count: string (nullable = true)\n",
      " |-- facility_timely_and_effective_care_measures_count: string (nullable = true)\n",
      "\n"
     ]
    }
   ],
   "source": [
    "hospital_general_info.printSchema()"
   ]
  },
  {
   "cell_type": "markdown",
   "id": "533c37b5-6f10-42ef-8ba6-02d4a5a5175f",
   "metadata": {
    "tags": []
   },
   "source": [
    "### inpatient_charges"
   ]
  },
  {
   "cell_type": "markdown",
   "id": "5bde5144-8921-462a-ad1f-0139a4218d63",
   "metadata": {
    "tags": []
   },
   "source": [
    "#### Checking null values"
   ]
  },
  {
   "cell_type": "code",
   "execution_count": 18,
   "id": "f9ab77cc-6295-49da-97a7-7e1b2ddc4ef9",
   "metadata": {},
   "outputs": [
    {
     "name": "stderr",
     "output_type": "stream",
     "text": [
      "                                                                                \r"
     ]
    },
    {
     "name": "stdout",
     "output_type": "stream",
     "text": [
      "-RECORD 0-----------------------------------\n",
      " provider_id                          | 0   \n",
      " provider_name                        | 0   \n",
      " provider_street_address              | 0   \n",
      " provider_city                        | 0   \n",
      " provider_state                       | 0   \n",
      " provider_zipcode                     | 0   \n",
      " drg_definition                       | 0   \n",
      " hospital_referral_region_description | 0   \n",
      " total_discharges                     | 0   \n",
      " average_covered_charges              | 0   \n",
      " average_total_payments               | 0   \n",
      " average_medicare_payments            | 0   \n",
      "\n"
     ]
    },
    {
     "name": "stderr",
     "output_type": "stream",
     "text": [
      "                                                                                \r"
     ]
    },
    {
     "name": "stdout",
     "output_type": "stream",
     "text": [
      "-RECORD 0-----------------------------------\n",
      " provider_id                          | 0   \n",
      " provider_name                        | 0   \n",
      " provider_street_address              | 0   \n",
      " provider_city                        | 0   \n",
      " provider_state                       | 0   \n",
      " provider_zipcode                     | 0   \n",
      " drg_definition                       | 0   \n",
      " hospital_referral_region_description | 0   \n",
      " total_discharges                     | 0   \n",
      " average_covered_charges              | 0   \n",
      " average_total_payments               | 0   \n",
      " average_medicare_payments            | 0   \n",
      "\n"
     ]
    },
    {
     "name": "stderr",
     "output_type": "stream",
     "text": [
      "                                                                                \r"
     ]
    },
    {
     "name": "stdout",
     "output_type": "stream",
     "text": [
      "-RECORD 0-----------------------------------\n",
      " provider_id                          | 0   \n",
      " provider_name                        | 0   \n",
      " provider_street_address              | 0   \n",
      " provider_city                        | 0   \n",
      " provider_state                       | 0   \n",
      " provider_zipcode                     | 0   \n",
      " drg_definition                       | 0   \n",
      " hospital_referral_region_description | 0   \n",
      " total_discharges                     | 0   \n",
      " average_covered_charges              | 0   \n",
      " average_total_payments               | 0   \n",
      " average_medicare_payments            | 0   \n",
      "\n"
     ]
    },
    {
     "name": "stderr",
     "output_type": "stream",
     "text": [
      "[Stage 16:>                                                         (0 + 1) / 1]\r"
     ]
    },
    {
     "name": "stdout",
     "output_type": "stream",
     "text": [
      "-RECORD 0-----------------------------------\n",
      " provider_id                          | 0   \n",
      " provider_name                        | 0   \n",
      " provider_street_address              | 0   \n",
      " provider_city                        | 0   \n",
      " provider_state                       | 0   \n",
      " provider_zipcode                     | 0   \n",
      " drg_definition                       | 0   \n",
      " hospital_referral_region_description | 0   \n",
      " total_discharges                     | 0   \n",
      " average_covered_charges              | 0   \n",
      " average_total_payments               | 0   \n",
      " average_medicare_payments            | 0   \n",
      "\n"
     ]
    },
    {
     "name": "stderr",
     "output_type": "stream",
     "text": [
      "                                                                                \r"
     ]
    }
   ],
   "source": [
    "#checking null values\n",
    "null_counts = inpatient_2012.select([sum(col(c).isNull().cast(\"int\")).alias(c) for c in inpatient_2012.columns])\n",
    "null_counts.show(vertical=True, truncate=False)\n",
    "null_counts = inpatient_2013.select([sum(col(c).isNull().cast(\"int\")).alias(c) for c in inpatient_2013.columns])\n",
    "null_counts.show(vertical=True, truncate=False)\n",
    "null_counts = inpatient_2014.select([sum(col(c).isNull().cast(\"int\")).alias(c) for c in inpatient_2014.columns])\n",
    "null_counts.show(vertical=True, truncate=False)\n",
    "null_counts = inpatient_2015.select([sum(col(c).isNull().cast(\"int\")).alias(c) for c in inpatient_2015.columns])\n",
    "null_counts.show(vertical=True, truncate=False)"
   ]
  },
  {
   "cell_type": "markdown",
   "id": "9344b657-295d-48bd-b626-098c5fa783d0",
   "metadata": {},
   "source": [
    "Post checking for null values, we find that there are no nulls in the inpatients table pertaining to the year 2012, 2013, 2014 and 2015"
   ]
  },
  {
   "cell_type": "markdown",
   "id": "36157cab-408b-4fd6-bdaf-1ab9e6b15c11",
   "metadata": {
    "tags": []
   },
   "source": [
    "#### Adding a \"year\" column for each table"
   ]
  },
  {
   "cell_type": "markdown",
   "id": "f5ea3f73-8e65-4e6a-ac8f-21f51a38317d",
   "metadata": {},
   "source": [
    " Inserting a \"year\" column with  values 2012, 2013, 2014 and 2015 for the respective outpatient datasets"
   ]
  },
  {
   "cell_type": "code",
   "execution_count": 19,
   "id": "1f9efa04-f6c6-4226-a287-b80182fd60df",
   "metadata": {},
   "outputs": [],
   "source": [
    "from pyspark.sql.functions import lit\n",
    "#add year column\n",
    "inpatient_2012 = inpatient_2012.withColumn(\"year\", lit(2012))\n",
    "inpatient_2013 = inpatient_2013.withColumn(\"year\", lit(2013))\n",
    "inpatient_2014 = inpatient_2014.withColumn(\"year\", lit(2014))\n",
    "inpatient_2015 = inpatient_2015.withColumn(\"year\", lit(2015))"
   ]
  },
  {
   "cell_type": "markdown",
   "id": "7034285e-627f-4f0b-89fa-db6c249a8b4a",
   "metadata": {
    "tags": []
   },
   "source": [
    "#### Performing a *Union* for tables from year 2012 to 2015"
   ]
  },
  {
   "cell_type": "markdown",
   "id": "cbea5480-1686-4112-84a6-60ce1e9d94c8",
   "metadata": {},
   "source": [
    "Concatenating all the years data into one table"
   ]
  },
  {
   "cell_type": "code",
   "execution_count": 20,
   "id": "75df8fe2-7af4-4d09-b669-d8d60c460afd",
   "metadata": {},
   "outputs": [],
   "source": [
    "# Concatenate all four tables\n",
    "inpatient_all = inpatient_2012.union(inpatient_2013).union(inpatient_2014).union(inpatient_2015)"
   ]
  },
  {
   "cell_type": "code",
   "execution_count": 21,
   "id": "269cd204-43fe-48d5-acd0-337afaf182cb",
   "metadata": {},
   "outputs": [
    {
     "name": "stdout",
     "output_type": "stream",
     "text": [
      "+-----------+----------------------+-----------------------+-------------+--------------+----------------+---------------------------------------------------------------+------------------------------------+----------------+-----------------------+----------------------+-------------------------+----+\n",
      "|provider_id|provider_name         |provider_street_address|provider_city|provider_state|provider_zipcode|drg_definition                                                 |hospital_referral_region_description|total_discharges|average_covered_charges|average_total_payments|average_medicare_payments|year|\n",
      "+-----------+----------------------+-----------------------+-------------+--------------+----------------+---------------------------------------------------------------+------------------------------------+----------------+-----------------------+----------------------+-------------------------+----+\n",
      "|220024     |HOLYOKE MEDICAL CENTER|575 BEECH STREET       |HOLYOKE      |MA            |01040           |064 - INTRACRANIAL HEMORRHAGE OR CEREBRAL INFARCTION W MCC     |MA - Springfield                    |12              |14219.0                |13679.0               |12720.0                  |2012|\n",
      "|220024     |HOLYOKE MEDICAL CENTER|575 BEECH STREET       |HOLYOKE      |MA            |01040           |065 - INTRACRANIAL HEMORRHAGE OR CEREBRAL INFARCTION W CC      |MA - Springfield                    |21              |10687.0                |8053.0                |7286.0                   |2012|\n",
      "|220024     |HOLYOKE MEDICAL CENTER|575 BEECH STREET       |HOLYOKE      |MA            |01040           |066 - INTRACRANIAL HEMORRHAGE OR CEREBRAL INFARCTION W/O CC/MCC|MA - Springfield                    |15              |11998.0                |6516.0                |5521.0                   |2012|\n",
      "|220024     |HOLYOKE MEDICAL CENTER|575 BEECH STREET       |HOLYOKE      |MA            |01040           |069 - TRANSIENT ISCHEMIA                                       |MA - Springfield                    |19              |9627.0                 |5999.0                |4968.0                   |2012|\n",
      "|220024     |HOLYOKE MEDICAL CENTER|575 BEECH STREET       |HOLYOKE      |MA            |01040           |176 - PULMONARY EMBOLISM W/O MCC                               |MA - Springfield                    |15              |10100.0                |7979.0                |7365.0                   |2012|\n",
      "+-----------+----------------------+-----------------------+-------------+--------------+----------------+---------------------------------------------------------------+------------------------------------+----------------+-----------------------+----------------------+-------------------------+----+\n",
      "only showing top 5 rows\n",
      "\n"
     ]
    }
   ],
   "source": [
    "#reviewing the first 5 rows in dataset\n",
    "inpatient_all.show(5, False)"
   ]
  },
  {
   "cell_type": "code",
   "execution_count": 22,
   "id": "f36d9903-296f-48fa-b859-381585314c0b",
   "metadata": {},
   "outputs": [
    {
     "name": "stdout",
     "output_type": "stream",
     "text": [
      "root\n",
      " |-- provider_id: string (nullable = false)\n",
      " |-- provider_name: string (nullable = true)\n",
      " |-- provider_street_address: string (nullable = true)\n",
      " |-- provider_city: string (nullable = true)\n",
      " |-- provider_state: string (nullable = true)\n",
      " |-- provider_zipcode: string (nullable = true)\n",
      " |-- drg_definition: string (nullable = false)\n",
      " |-- hospital_referral_region_description: string (nullable = true)\n",
      " |-- total_discharges: long (nullable = true)\n",
      " |-- average_covered_charges: double (nullable = true)\n",
      " |-- average_total_payments: double (nullable = true)\n",
      " |-- average_medicare_payments: double (nullable = true)\n",
      " |-- year: integer (nullable = false)\n",
      "\n"
     ]
    }
   ],
   "source": [
    "#checking the schema for inpatient data\n",
    "inpatient_all.printSchema()"
   ]
  },
  {
   "cell_type": "markdown",
   "id": "ce24455e-a14b-40d4-8a57-6d01f653ec1d",
   "metadata": {
    "tags": []
   },
   "source": [
    "### outpatient_charges (n/c)"
   ]
  },
  {
   "cell_type": "markdown",
   "id": "e4d3e2ee-24a7-4114-a6b8-76058bff913d",
   "metadata": {
    "tags": []
   },
   "source": [
    "#### Checking null values"
   ]
  },
  {
   "cell_type": "code",
   "execution_count": 24,
   "id": "a6e2f5f2-3900-4dee-977a-47fcc6b7979c",
   "metadata": {},
   "outputs": [
    {
     "name": "stderr",
     "output_type": "stream",
     "text": [
      "                                                                                \r"
     ]
    },
    {
     "name": "stdout",
     "output_type": "stream",
     "text": [
      "-RECORD 0----------------------------------\n",
      " provider_id                         | 0   \n",
      " provider_name                       | 0   \n",
      " provider_street_address             | 0   \n",
      " provider_city                       | 0   \n",
      " provider_state                      | 0   \n",
      " provider_zipcode                    | 0   \n",
      " apc                                 | 0   \n",
      " hospital_referral_region            | 0   \n",
      " outpatient_services                 | 0   \n",
      " average_estimated_submitted_charges | 0   \n",
      " average_total_payments              | 0   \n",
      "\n"
     ]
    },
    {
     "name": "stderr",
     "output_type": "stream",
     "text": [
      "                                                                                \r"
     ]
    },
    {
     "name": "stdout",
     "output_type": "stream",
     "text": [
      "-RECORD 0----------------------------------\n",
      " provider_id                         | 0   \n",
      " provider_name                       | 0   \n",
      " provider_street_address             | 0   \n",
      " provider_city                       | 0   \n",
      " provider_state                      | 0   \n",
      " provider_zipcode                    | 0   \n",
      " apc                                 | 0   \n",
      " hospital_referral_region            | 0   \n",
      " outpatient_services                 | 0   \n",
      " average_estimated_submitted_charges | 0   \n",
      " average_total_payments              | 0   \n",
      "\n",
      "-RECORD 0----------------------------------\n",
      " provider_id                         | 0   \n",
      " provider_name                       | 0   \n",
      " provider_street_address             | 0   \n",
      " provider_city                       | 0   \n",
      " provider_state                      | 0   \n",
      " provider_zipcode                    | 0   \n",
      " apc                                 | 0   \n",
      " hospital_referral_region            | 0   \n",
      " outpatient_services                 | 0   \n",
      " average_estimated_submitted_charges | 0   \n",
      " average_total_payments              | 0   \n",
      "\n",
      "-RECORD 0----------------------------------\n",
      " provider_id                         | 0   \n",
      " provider_name                       | 0   \n",
      " provider_street_address             | 0   \n",
      " provider_city                       | 0   \n",
      " provider_state                      | 0   \n",
      " provider_zipcode                    | 0   \n",
      " apc                                 | 0   \n",
      " hospital_referral_region            | 0   \n",
      " outpatient_services                 | 0   \n",
      " average_estimated_submitted_charges | 0   \n",
      " average_total_payments              | 0   \n",
      "\n"
     ]
    }
   ],
   "source": [
    "from pyspark.sql import SparkSession\n",
    "from pyspark.sql.functions import col, sum\n",
    "spark = SparkSession.builder.appName(\"HospitalRatings\").getOrCreate()\n",
    "\n",
    "# Check for null values in each column\n",
    "null_counts = outpatient_2012.select([sum(col(c).isNull().cast(\"int\")).alias(c) for c in outpatient_2012.columns])\n",
    "null_counts.show(vertical=True, truncate=False)\n",
    "null_counts = outpatient_2013.select([sum(col(c).isNull().cast(\"int\")).alias(c) for c in outpatient_2013.columns])\n",
    "null_counts.show(vertical=True, truncate=False)\n",
    "null_counts = outpatient_2014.select([sum(col(c).isNull().cast(\"int\")).alias(c) for c in outpatient_2014.columns])\n",
    "null_counts.show(vertical=True, truncate=False)\n",
    "null_counts = outpatient_2015.select([sum(col(c).isNull().cast(\"int\")).alias(c) for c in outpatient_2015.columns])\n",
    "null_counts.show(vertical=True, truncate=False)\n"
   ]
  },
  {
   "cell_type": "markdown",
   "id": "02ebb293-f848-4043-9b97-1993310043ec",
   "metadata": {},
   "source": [
    "Post checking for null values, we find that there are no nulls in the outpatients table pertaining to the year 2012, 2013, 2014 and 2015"
   ]
  },
  {
   "cell_type": "markdown",
   "id": "24627e48-16b5-4436-9800-0f679f2fee32",
   "metadata": {
    "tags": []
   },
   "source": [
    "#### Adding a \"year\" column for each table"
   ]
  },
  {
   "cell_type": "markdown",
   "id": "96821e39-ee71-4dba-ab59-c99d6da8c88e",
   "metadata": {},
   "source": [
    " Inserting a \"year\" column with  values 2012, 2013, 2014 and 2015 for the respective outpatient datasets"
   ]
  },
  {
   "cell_type": "code",
   "execution_count": 27,
   "id": "cbb36867-c82a-4024-8318-bd4c1061f5f5",
   "metadata": {},
   "outputs": [],
   "source": [
    "# import packages\n",
    "import pandas as pd\n",
    "import numpy as np\n",
    "\n",
    "outpatient_2012 = outpatient_2012.withColumn(\"year\", lit(2012))\n",
    "outpatient_2013 = outpatient_2013.withColumn(\"year\", lit(2013))\n",
    "outpatient_2014 = outpatient_2014.withColumn(\"year\", lit(2014))\n",
    "outpatient_2015 = outpatient_2015.withColumn(\"year\", lit(2015))"
   ]
  },
  {
   "cell_type": "markdown",
   "id": "1b360315-9968-424d-baa4-cb775da9b1ae",
   "metadata": {
    "tags": []
   },
   "source": [
    "#### Performing a *Union* for tables from  year 2012 to 2015"
   ]
  },
  {
   "cell_type": "code",
   "execution_count": 28,
   "id": "f0f591cd-f515-4e35-a519-99d271977f25",
   "metadata": {},
   "outputs": [],
   "source": [
    "# Concatenate all four tables\n",
    "outpatient_all = outpatient_2012.union(outpatient_2013).union(outpatient_2014).union(outpatient_2015)"
   ]
  },
  {
   "cell_type": "code",
   "execution_count": 29,
   "id": "36b15a04-0d85-47ef-ab74-5a52fe8ebd46",
   "metadata": {},
   "outputs": [
    {
     "name": "stdout",
     "output_type": "stream",
     "text": [
      "root\n",
      " |-- provider_id: string (nullable = false)\n",
      " |-- provider_name: string (nullable = true)\n",
      " |-- provider_street_address: string (nullable = true)\n",
      " |-- provider_city: string (nullable = true)\n",
      " |-- provider_state: string (nullable = true)\n",
      " |-- provider_zipcode: string (nullable = true)\n",
      " |-- apc: string (nullable = false)\n",
      " |-- hospital_referral_region: string (nullable = true)\n",
      " |-- outpatient_services: long (nullable = true)\n",
      " |-- average_estimated_submitted_charges: double (nullable = true)\n",
      " |-- average_total_payments: double (nullable = true)\n",
      " |-- year: integer (nullable = false)\n",
      "\n"
     ]
    }
   ],
   "source": [
    "#checking schema\n",
    "outpatient_all.printSchema()"
   ]
  },
  {
   "cell_type": "markdown",
   "id": "19a1b37e-0b48-44c6-bfe2-39c57bd3083d",
   "metadata": {
    "tags": []
   },
   "source": [
    "### physicians_and_other_supplier datasets"
   ]
  },
  {
   "cell_type": "markdown",
   "id": "71080c94-55a5-4005-8f78-9480a5df21e1",
   "metadata": {
    "tags": []
   },
   "source": [
    "#### Checking null values and dropping relevant columns"
   ]
  },
  {
   "cell_type": "code",
   "execution_count": 30,
   "id": "b810cea0-df6a-47eb-976e-96d52c9edcbb",
   "metadata": {},
   "outputs": [
    {
     "name": "stderr",
     "output_type": "stream",
     "text": [
      "[Stage 32:====================================================>   (17 + 1) / 18]\r"
     ]
    },
    {
     "name": "stdout",
     "output_type": "stream",
     "text": [
      "-RECORD 0-----------------------------------\n",
      " npi                              | 0       \n",
      " nppes_provider_last_org_name     | 0       \n",
      " nppes_provider_first_name        | 379966  \n",
      " nppes_provider_mi                | 2378117 \n",
      " nppes_credentials                | 546265  \n",
      " nppes_provider_gender            | 379966  \n",
      " nppes_entity_code                | 0       \n",
      " nppes_provider_street1           | 0       \n",
      " nppes_provider_street2           | 5054383 \n",
      " nppes_provider_city              | 0       \n",
      " nppes_provider_zip               | 0       \n",
      " nppes_provider_state             | 0       \n",
      " nppes_provider_country           | 0       \n",
      " provider_type                    | 0       \n",
      " medicare_participation_indicator | 0       \n",
      " place_of_service                 | 0       \n",
      " hcpcs_code                       | 0       \n",
      " hcpcs_description                | 0       \n",
      " hcpcs_drug_indicator             | 0       \n",
      " line_srvc_cnt                    | 0       \n",
      " bene_unique_cnt                  | 0       \n",
      " bene_day_srvc_cnt                | 0       \n",
      " average_medicare_allowed_amt     | 0       \n",
      " stdev_medicare_allowed_amt       | 0       \n",
      " average_submitted_chrg_amt       | 0       \n",
      " stdev_submitted_chrg_amt         | 0       \n",
      " average_medicare_payment_amt     | 0       \n",
      " stdev_medicare_payment_amt       | 0       \n",
      "\n"
     ]
    },
    {
     "name": "stderr",
     "output_type": "stream",
     "text": [
      "                                                                                \r"
     ]
    }
   ],
   "source": [
    "# Counting the number of null values in each column\n",
    "null_counts = physicians_and_other_supplier_2012.select([sum(col(c).isNull().cast(\"int\")).alias(c) for c in physicians_and_other_supplier_2012.columns])\n",
    "null_counts.show(vertical=True, truncate=False)"
   ]
  },
  {
   "cell_type": "markdown",
   "id": "048dde16-dad9-4eaa-9646-139fdecd1e60",
   "metadata": {},
   "source": [
    "The table shown represents the number of null values in each column of a data set. Each column name is listed on the left-hand side, and the number of null values found in that column is listed on the right-hand side. The number \"0\" indicates that there are no null values in that column, while other numbers indicate the count of null values found. For example, there are 379,966 null values in the \"nppes_provider_first_name\" column and 2,378,117 null values in the \"nppes_provider_mi\" column. The null values in the data set may need to be handled, depending on the analysis that is being performed. "
   ]
  },
  {
   "cell_type": "markdown",
   "id": "7b1451bd-bbca-4231-937b-5b1644c092ee",
   "metadata": {},
   "source": [
    "These three columns - \"stdev_medicare_allowed_amt\", \"stdev_submitted_chrg_amt\", and \"stdev_medicare_payment_amt\" - contain standard deviation values for the corresponding metrics, and are not typically used in analysis or modeling. Therefore, they can be safely dropped from the DataFrame to simplify it and reduce its size."
   ]
  },
  {
   "cell_type": "code",
   "execution_count": 31,
   "id": "0369afa5-cf94-4b90-b1a7-85cdc1a875aa",
   "metadata": {},
   "outputs": [],
   "source": [
    "# Dropping the 'stdev_submitted_chrg_amt' column\n",
    "physicians_and_other_supplier_2012 = physicians_and_other_supplier_2012.drop(\"stdev_medicare_allowed_amt\")\n",
    "physicians_and_other_supplier_2012 = physicians_and_other_supplier_2012.drop(\"stdev_submitted_chrg_amt\")\n",
    "physicians_and_other_supplier_2012 = physicians_and_other_supplier_2012.drop(\"stdev_medicare_payment_amt\")\n"
   ]
  },
  {
   "cell_type": "code",
   "execution_count": 32,
   "id": "fde14a9f-9754-43cd-aea7-c6cb81a8320c",
   "metadata": {},
   "outputs": [
    {
     "name": "stdout",
     "output_type": "stream",
     "text": [
      "root\n",
      " |-- npi: string (nullable = false)\n",
      " |-- nppes_provider_last_org_name: string (nullable = true)\n",
      " |-- nppes_provider_first_name: string (nullable = true)\n",
      " |-- nppes_provider_mi: string (nullable = true)\n",
      " |-- nppes_credentials: string (nullable = true)\n",
      " |-- nppes_provider_gender: string (nullable = true)\n",
      " |-- nppes_entity_code: string (nullable = true)\n",
      " |-- nppes_provider_street1: string (nullable = true)\n",
      " |-- nppes_provider_street2: string (nullable = true)\n",
      " |-- nppes_provider_city: string (nullable = true)\n",
      " |-- nppes_provider_zip: string (nullable = true)\n",
      " |-- nppes_provider_state: string (nullable = true)\n",
      " |-- nppes_provider_country: string (nullable = true)\n",
      " |-- provider_type: string (nullable = true)\n",
      " |-- medicare_participation_indicator: string (nullable = true)\n",
      " |-- place_of_service: string (nullable = false)\n",
      " |-- hcpcs_code: string (nullable = false)\n",
      " |-- hcpcs_description: string (nullable = true)\n",
      " |-- hcpcs_drug_indicator: string (nullable = true)\n",
      " |-- line_srvc_cnt: double (nullable = true)\n",
      " |-- bene_unique_cnt: long (nullable = true)\n",
      " |-- bene_day_srvc_cnt: long (nullable = true)\n",
      " |-- average_medicare_allowed_amt: double (nullable = true)\n",
      " |-- average_submitted_chrg_amt: double (nullable = true)\n",
      " |-- average_medicare_payment_amt: double (nullable = true)\n",
      "\n"
     ]
    }
   ],
   "source": [
    "physicians_and_other_supplier_2012.printSchema()"
   ]
  },
  {
   "cell_type": "markdown",
   "id": "26ebc884-00fc-4bde-8934-46b9bba3c52e",
   "metadata": {},
   "source": [
    "The below code is used to count the number of null values in each column of the 2013 physicians and other supplier table."
   ]
  },
  {
   "cell_type": "code",
   "execution_count": 33,
   "id": "a79cea98-09c0-4465-988d-df8b8efffe23",
   "metadata": {},
   "outputs": [
    {
     "name": "stderr",
     "output_type": "stream",
     "text": [
      "[Stage 35:=====================================================>  (18 + 1) / 19]\r"
     ]
    },
    {
     "name": "stdout",
     "output_type": "stream",
     "text": [
      "-RECORD 0-----------------------------------\n",
      " npi                              | 0       \n",
      " nppes_provider_last_org_name     | 0       \n",
      " nppes_provider_first_name        | 405845  \n",
      " nppes_provider_mi                | 2464668 \n",
      " nppes_credentials                | 580962  \n",
      " nppes_provider_gender            | 405845  \n",
      " nppes_entity_code                | 0       \n",
      " nppes_provider_street1           | 0       \n",
      " nppes_provider_street2           | 5144939 \n",
      " nppes_provider_city              | 0       \n",
      " nppes_provider_zip               | 0       \n",
      " nppes_provider_state             | 0       \n",
      " nppes_provider_country           | 0       \n",
      " provider_type                    | 0       \n",
      " medicare_participation_indicator | 0       \n",
      " place_of_service                 | 0       \n",
      " hcpcs_code                       | 0       \n",
      " hcpcs_description                | 0       \n",
      " hcpcs_drug_indicator             | 0       \n",
      " line_srvc_cnt                    | 0       \n",
      " bene_unique_cnt                  | 0       \n",
      " bene_day_srvc_cnt                | 0       \n",
      " average_medicare_allowed_amt     | 0       \n",
      " stdev_medicare_allowed_amt       | 0       \n",
      " average_submitted_chrg_amt       | 0       \n",
      " stdev_submitted_chrg_amt         | 0       \n",
      " average_medicare_payment_amt     | 0       \n",
      " stdev_medicare_payment_amt       | 0       \n",
      "\n"
     ]
    },
    {
     "name": "stderr",
     "output_type": "stream",
     "text": [
      "                                                                                \r"
     ]
    }
   ],
   "source": [
    "# Counting the number of null values in each column\n",
    "null_counts = physicians_and_other_supplier_2013.select([sum(col(c).isNull().cast(\"int\")).alias(c) for c in physicians_and_other_supplier_2013.columns])\n",
    "null_counts.show(vertical=True, truncate=False)"
   ]
  },
  {
   "cell_type": "markdown",
   "id": "d48bae93-062c-4fbd-b4cd-2e665a6c153e",
   "metadata": {},
   "source": [
    "The table shown represents the number of null values in each column of a data set. Each column name is listed on the left-hand side, and the number of null values found in that column is listed on the right-hand side. The number \"0\" indicates that there are no null values in that column, while other numbers indicate the count of null values found. For example, there are 405,845 null values in the \"nppes_provider_first_name\" column and 2,464,668 null values in the \"nppes_provider_mi\" column. The null values in the data set may need to be handled, depending on the analysis that is being performed. Additionally, it can be observed that there are columns such as \"stdev_medicare_allowed_amt\", \"stdev_submitted_chrg_amt\", and \"stdev_medicare_payment_amt\" that have no values other than 0. Hence, these columns may be dropped from the data set as they do not provide any useful information for analysis.\n",
    "\n",
    "\n"
   ]
  },
  {
   "cell_type": "code",
   "execution_count": 34,
   "id": "f77b143f-ddff-41f6-a170-992e9e436a03",
   "metadata": {},
   "outputs": [],
   "source": [
    "# Dropping the 'stdev_submitted_chrg_amt' column\n",
    "physicians_and_other_supplier_2013 = physicians_and_other_supplier_2013.drop(\"stdev_medicare_allowed_amt\")\n",
    "physicians_and_other_supplier_2013 = physicians_and_other_supplier_2013.drop(\"stdev_submitted_chrg_amt\")\n",
    "physicians_and_other_supplier_2013 = physicians_and_other_supplier_2013.drop(\"stdev_medicare_payment_amt\")\n"
   ]
  },
  {
   "cell_type": "code",
   "execution_count": 35,
   "id": "322f7564-bc02-4838-b33f-0766849259e0",
   "metadata": {},
   "outputs": [
    {
     "name": "stdout",
     "output_type": "stream",
     "text": [
      "root\n",
      " |-- npi: string (nullable = false)\n",
      " |-- nppes_provider_last_org_name: string (nullable = true)\n",
      " |-- nppes_provider_first_name: string (nullable = true)\n",
      " |-- nppes_provider_mi: string (nullable = true)\n",
      " |-- nppes_credentials: string (nullable = true)\n",
      " |-- nppes_provider_gender: string (nullable = true)\n",
      " |-- nppes_entity_code: string (nullable = true)\n",
      " |-- nppes_provider_street1: string (nullable = true)\n",
      " |-- nppes_provider_street2: string (nullable = true)\n",
      " |-- nppes_provider_city: string (nullable = true)\n",
      " |-- nppes_provider_zip: string (nullable = true)\n",
      " |-- nppes_provider_state: string (nullable = true)\n",
      " |-- nppes_provider_country: string (nullable = true)\n",
      " |-- provider_type: string (nullable = true)\n",
      " |-- medicare_participation_indicator: string (nullable = true)\n",
      " |-- place_of_service: string (nullable = false)\n",
      " |-- hcpcs_code: string (nullable = false)\n",
      " |-- hcpcs_description: string (nullable = true)\n",
      " |-- hcpcs_drug_indicator: string (nullable = true)\n",
      " |-- line_srvc_cnt: double (nullable = true)\n",
      " |-- bene_unique_cnt: long (nullable = true)\n",
      " |-- bene_day_srvc_cnt: long (nullable = true)\n",
      " |-- average_medicare_allowed_amt: double (nullable = true)\n",
      " |-- average_submitted_chrg_amt: double (nullable = true)\n",
      " |-- average_medicare_payment_amt: double (nullable = true)\n",
      "\n"
     ]
    }
   ],
   "source": [
    "physicians_and_other_supplier_2013.printSchema()"
   ]
  },
  {
   "cell_type": "markdown",
   "id": "d923dea7-4d60-4abc-93a0-3b32ef2195de",
   "metadata": {},
   "source": [
    "The below code is used to count the number of null values in each column of the 2014 physicians and other supplier table."
   ]
  },
  {
   "cell_type": "code",
   "execution_count": 36,
   "id": "d3c0e680-77d1-4e13-af90-d265f8354371",
   "metadata": {},
   "outputs": [
    {
     "name": "stderr",
     "output_type": "stream",
     "text": [
      "[Stage 38:====================================================>   (15 + 1) / 16]\r"
     ]
    },
    {
     "name": "stdout",
     "output_type": "stream",
     "text": [
      "-RECORD 0-----------------------------------\n",
      " npi                              | 0       \n",
      " nppes_provider_last_org_name     | 0       \n",
      " nppes_provider_first_name        | 403127  \n",
      " nppes_provider_mi                | 2510407 \n",
      " nppes_credentials                | 591748  \n",
      " nppes_provider_gender            | 403127  \n",
      " nppes_entity_code                | 0       \n",
      " nppes_provider_street1           | 0       \n",
      " nppes_provider_street2           | 5170942 \n",
      " nppes_provider_city              | 0       \n",
      " nppes_provider_zip               | 0       \n",
      " nppes_provider_state             | 0       \n",
      " nppes_provider_country           | 0       \n",
      " provider_type                    | 0       \n",
      " medicare_participation_indicator | 0       \n",
      " place_of_service                 | 0       \n",
      " hcpcs_code                       | 0       \n",
      " hcpcs_description                | 0       \n",
      " hcpcs_drug_indicator             | 0       \n",
      " line_srvc_cnt                    | 0       \n",
      " bene_unique_cnt                  | 0       \n",
      " bene_day_srvc_cnt                | 0       \n",
      " average_medicare_allowed_amt     | 0       \n",
      " average_submitted_chrg_amt       | 0       \n",
      " average_medicare_payment_amt     | 0       \n",
      " average_medicare_standard_amt    | 0       \n",
      "\n"
     ]
    },
    {
     "name": "stderr",
     "output_type": "stream",
     "text": [
      "                                                                                \r"
     ]
    }
   ],
   "source": [
    "# Counting the number of null values in each column\n",
    "null_counts = physicians_and_other_supplier_2014.select([sum(col(c).isNull().cast(\"int\")).alias(c) for c in physicians_and_other_supplier_2014.columns])\n",
    "null_counts.show(vertical=True, truncate=False)"
   ]
  },
  {
   "cell_type": "markdown",
   "id": "928d2e6a-1981-46a2-9183-f67fdbbf4f58",
   "metadata": {},
   "source": [
    "The table shown represents the number of null values in each column of a data set for the year 2014. Each column name is listed on the left-hand side, and the number of null values found in that column is listed on the right-hand side. The number \"0\" indicates that there are no null values in that column, while other numbers indicate the count of null values found. For example, there are 403,127 null values in the \"nppes_provider_first_name\" column and 2,510,407 null values in the \"nppes_provider_mi\" column. The null values in the data set may need to be handled, depending on the analysis that is being performed.\n",
    "\n",
    "\n"
   ]
  },
  {
   "cell_type": "markdown",
   "id": "08c873db-80a3-4520-95cc-b3e8d38b59b7",
   "metadata": {},
   "source": [
    "We will drop average_medicare_standard_amt as we already have average_medicare_payment_amt and we are not using this in the further analysis"
   ]
  },
  {
   "cell_type": "code",
   "execution_count": 37,
   "id": "004d6040-1cab-4a6a-8f3e-8b735355e905",
   "metadata": {},
   "outputs": [],
   "source": [
    "physicians_and_other_supplier_2014 = physicians_and_other_supplier_2014.drop(\"average_medicare_standard_amt\")\n"
   ]
  },
  {
   "cell_type": "code",
   "execution_count": 38,
   "id": "6ea7eaaa-76f6-4b8c-b8ef-38f68edb31d0",
   "metadata": {},
   "outputs": [
    {
     "name": "stdout",
     "output_type": "stream",
     "text": [
      "root\n",
      " |-- npi: string (nullable = false)\n",
      " |-- nppes_provider_last_org_name: string (nullable = true)\n",
      " |-- nppes_provider_first_name: string (nullable = true)\n",
      " |-- nppes_provider_mi: string (nullable = true)\n",
      " |-- nppes_credentials: string (nullable = true)\n",
      " |-- nppes_provider_gender: string (nullable = true)\n",
      " |-- nppes_entity_code: string (nullable = true)\n",
      " |-- nppes_provider_street1: string (nullable = true)\n",
      " |-- nppes_provider_street2: string (nullable = true)\n",
      " |-- nppes_provider_city: string (nullable = true)\n",
      " |-- nppes_provider_zip: string (nullable = true)\n",
      " |-- nppes_provider_state: string (nullable = true)\n",
      " |-- nppes_provider_country: string (nullable = true)\n",
      " |-- provider_type: string (nullable = true)\n",
      " |-- medicare_participation_indicator: string (nullable = true)\n",
      " |-- place_of_service: string (nullable = false)\n",
      " |-- hcpcs_code: string (nullable = false)\n",
      " |-- hcpcs_description: string (nullable = true)\n",
      " |-- hcpcs_drug_indicator: string (nullable = true)\n",
      " |-- line_srvc_cnt: double (nullable = true)\n",
      " |-- bene_unique_cnt: long (nullable = true)\n",
      " |-- bene_day_srvc_cnt: long (nullable = true)\n",
      " |-- average_medicare_allowed_amt: double (nullable = true)\n",
      " |-- average_submitted_chrg_amt: double (nullable = true)\n",
      " |-- average_medicare_payment_amt: double (nullable = true)\n",
      "\n"
     ]
    }
   ],
   "source": [
    "physicians_and_other_supplier_2014.printSchema()"
   ]
  },
  {
   "cell_type": "code",
   "execution_count": 39,
   "id": "c77eeb3b-caeb-45bc-bcfe-bb1860193539",
   "metadata": {},
   "outputs": [
    {
     "name": "stderr",
     "output_type": "stream",
     "text": [
      "[Stage 41:====================================================>   (16 + 1) / 17]\r"
     ]
    },
    {
     "name": "stdout",
     "output_type": "stream",
     "text": [
      "-RECORD 0-----------------------------------\n",
      " npi                              | 0       \n",
      " nppes_provider_last_org_name     | 0       \n",
      " nppes_provider_first_name        | 423841  \n",
      " nppes_provider_mi                | 2630742 \n",
      " nppes_credentials                | 637362  \n",
      " nppes_provider_gender            | 423841  \n",
      " nppes_entity_code                | 0       \n",
      " nppes_provider_street1           | 0       \n",
      " nppes_provider_street2           | 5292916 \n",
      " nppes_provider_city              | 0       \n",
      " nppes_provider_zip               | 0       \n",
      " nppes_provider_state             | 0       \n",
      " nppes_provider_country           | 0       \n",
      " provider_type                    | 0       \n",
      " medicare_participation_indicator | 0       \n",
      " place_of_service                 | 0       \n",
      " hcpcs_code                       | 0       \n",
      " hcpcs_description                | 0       \n",
      " hcpcs_drug_indicator             | 0       \n",
      " line_srvc_cnt                    | 0       \n",
      " bene_unique_cnt                  | 0       \n",
      " bene_day_srvc_cnt                | 0       \n",
      " average_medicare_allowed_amt     | 0       \n",
      " average_submitted_chrg_amt       | 0       \n",
      " average_medicare_payment_amt     | 0       \n",
      " average_medicare_standard_amt    | 0       \n",
      "\n"
     ]
    },
    {
     "name": "stderr",
     "output_type": "stream",
     "text": [
      "                                                                                \r"
     ]
    }
   ],
   "source": [
    "# Counting the number of null values in each column\n",
    "null_counts = physicians_and_other_supplier_2015.select([sum(col(c).isNull().cast(\"int\")).alias(c) for c in physicians_and_other_supplier_2015.columns])\n",
    "null_counts.show(vertical=True, truncate=False)"
   ]
  },
  {
   "cell_type": "markdown",
   "id": "9c895ea8-a0f3-4ce0-a02f-d756e6bcefb2",
   "metadata": {},
   "source": [
    "The above table represents the number of null values in each column for the Physicians and Other Supplier dataset for the year 2015. The first column lists the name of each column, while the second column shows the count of null values in that particular column. A count of \"0\" indicates that there are no null values in that column. The column \"nppes_provider_first_name\" has 423,841 null values, while the \"nppes_provider_mi\" column has 2,630,742 null values, the highest count of null values in this table.\n",
    "\n",
    "We will drop average_medicare_standard_amt as we already have average_medicare_payment_amt and we are not using this in the further analysis."
   ]
  },
  {
   "cell_type": "code",
   "execution_count": 40,
   "id": "7337c5f7-abf1-412e-a6da-3441dccc2e1f",
   "metadata": {},
   "outputs": [
    {
     "name": "stdout",
     "output_type": "stream",
     "text": [
      "root\n",
      " |-- npi: string (nullable = false)\n",
      " |-- nppes_provider_last_org_name: string (nullable = true)\n",
      " |-- nppes_provider_first_name: string (nullable = true)\n",
      " |-- nppes_provider_mi: string (nullable = true)\n",
      " |-- nppes_credentials: string (nullable = true)\n",
      " |-- nppes_provider_gender: string (nullable = true)\n",
      " |-- nppes_entity_code: string (nullable = true)\n",
      " |-- nppes_provider_street1: string (nullable = true)\n",
      " |-- nppes_provider_street2: string (nullable = true)\n",
      " |-- nppes_provider_city: string (nullable = true)\n",
      " |-- nppes_provider_zip: string (nullable = true)\n",
      " |-- nppes_provider_state: string (nullable = true)\n",
      " |-- nppes_provider_country: string (nullable = true)\n",
      " |-- provider_type: string (nullable = true)\n",
      " |-- medicare_participation_indicator: string (nullable = true)\n",
      " |-- place_of_service: string (nullable = false)\n",
      " |-- hcpcs_code: string (nullable = false)\n",
      " |-- hcpcs_description: string (nullable = true)\n",
      " |-- hcpcs_drug_indicator: string (nullable = true)\n",
      " |-- line_srvc_cnt: double (nullable = true)\n",
      " |-- bene_unique_cnt: long (nullable = true)\n",
      " |-- bene_day_srvc_cnt: long (nullable = true)\n",
      " |-- average_medicare_allowed_amt: double (nullable = true)\n",
      " |-- average_submitted_chrg_amt: double (nullable = true)\n",
      " |-- average_medicare_payment_amt: double (nullable = true)\n",
      "\n"
     ]
    }
   ],
   "source": [
    "physicians_and_other_supplier_2015 = physicians_and_other_supplier_2015.drop(\"average_medicare_standard_amt\")\n",
    "physicians_and_other_supplier_2015.printSchema()"
   ]
  },
  {
   "cell_type": "markdown",
   "id": "f073d924-f223-462e-99b7-3437c8d58970",
   "metadata": {
    "tags": []
   },
   "source": [
    "#### Adding a \"year\" column for each table"
   ]
  },
  {
   "cell_type": "markdown",
   "id": "ddafe730-9b8c-42f7-97d7-d78ca12c909e",
   "metadata": {},
   "source": [
    " Inserting a \"year\" column with  values 2012, 2013, 2014 and 2015 for the respective physicians datasets"
   ]
  },
  {
   "cell_type": "code",
   "execution_count": 42,
   "id": "aaf53c5b-b3da-43d3-8620-edc7f7ffda76",
   "metadata": {},
   "outputs": [],
   "source": [
    "#add year column\n",
    "physicians_and_other_supplier_2012 = physicians_and_other_supplier_2012.withColumn(\"year\", lit(2012))\n",
    "physicians_and_other_supplier_2013 = physicians_and_other_supplier_2013.withColumn(\"year\", lit(2013))\n",
    "physicians_and_other_supplier_2014 = physicians_and_other_supplier_2014.withColumn(\"year\", lit(2014))\n",
    "physicians_and_other_supplier_2015 = physicians_and_other_supplier_2015.withColumn(\"year\", lit(2015))"
   ]
  },
  {
   "cell_type": "markdown",
   "id": "d32df522-0b9c-49cf-9155-c6d31612ec1d",
   "metadata": {
    "tags": []
   },
   "source": [
    "#### Performing a *Union*  for tables from year 2012 to 2015"
   ]
  },
  {
   "cell_type": "markdown",
   "id": "81c88682-ddf2-473d-9f2d-e377019f9c60",
   "metadata": {},
   "source": [
    "Concatenating all the physicians datasets into one table"
   ]
  },
  {
   "cell_type": "code",
   "execution_count": 43,
   "id": "3b9c6db8-de4e-41e1-9c37-ff5f04a9dba9",
   "metadata": {},
   "outputs": [],
   "source": [
    "# Concatenate all four tables\n",
    "physicians_all = physicians_and_other_supplier_2012.union(physicians_and_other_supplier_2013).union(physicians_and_other_supplier_2014).union(physicians_and_other_supplier_2015)"
   ]
  },
  {
   "cell_type": "code",
   "execution_count": 44,
   "id": "28745e1c-a57f-49b8-88de-0e2c9d38aa4f",
   "metadata": {},
   "outputs": [
    {
     "name": "stdout",
     "output_type": "stream",
     "text": [
      "root\n",
      " |-- npi: string (nullable = false)\n",
      " |-- nppes_provider_last_org_name: string (nullable = true)\n",
      " |-- nppes_provider_first_name: string (nullable = true)\n",
      " |-- nppes_provider_mi: string (nullable = true)\n",
      " |-- nppes_credentials: string (nullable = true)\n",
      " |-- nppes_provider_gender: string (nullable = true)\n",
      " |-- nppes_entity_code: string (nullable = true)\n",
      " |-- nppes_provider_street1: string (nullable = true)\n",
      " |-- nppes_provider_street2: string (nullable = true)\n",
      " |-- nppes_provider_city: string (nullable = true)\n",
      " |-- nppes_provider_zip: string (nullable = true)\n",
      " |-- nppes_provider_state: string (nullable = true)\n",
      " |-- nppes_provider_country: string (nullable = true)\n",
      " |-- provider_type: string (nullable = true)\n",
      " |-- medicare_participation_indicator: string (nullable = true)\n",
      " |-- place_of_service: string (nullable = false)\n",
      " |-- hcpcs_code: string (nullable = false)\n",
      " |-- hcpcs_description: string (nullable = true)\n",
      " |-- hcpcs_drug_indicator: string (nullable = true)\n",
      " |-- line_srvc_cnt: double (nullable = true)\n",
      " |-- bene_unique_cnt: long (nullable = true)\n",
      " |-- bene_day_srvc_cnt: long (nullable = true)\n",
      " |-- average_medicare_allowed_amt: double (nullable = true)\n",
      " |-- average_submitted_chrg_amt: double (nullable = true)\n",
      " |-- average_medicare_payment_amt: double (nullable = true)\n",
      " |-- year: integer (nullable = false)\n",
      "\n"
     ]
    }
   ],
   "source": [
    "physicians_all.printSchema()"
   ]
  },
  {
   "cell_type": "markdown",
   "id": "87c98c57-c6d4-4ec2-ab59-80b5ee3b8d77",
   "metadata": {},
   "source": [
    "#### Filtering records to only retain the US data from the table"
   ]
  },
  {
   "cell_type": "markdown",
   "id": "7e41cc79-619b-4cd5-aff0-6b7e0bbfe6a2",
   "metadata": {},
   "source": [
    "physicians_all data has multiple countries data it, let's filter only the US data."
   ]
  },
  {
   "cell_type": "code",
   "execution_count": 46,
   "id": "b6c40a23-dfc8-49b2-9670-c2805e879420",
   "metadata": {},
   "outputs": [],
   "source": [
    "from pyspark.sql.functions import col\n",
    "\n",
    "# Filter the DataFrame to only include records related to the United States\n",
    "physicians_all = physicians_all.filter(col('nppes_provider_country') == 'US')\n"
   ]
  },
  {
   "cell_type": "markdown",
   "id": "ded7bf0a-d2d3-40ec-8cd1-399ef460c249",
   "metadata": {},
   "source": [
    "## IV. Data Exploration"
   ]
  },
  {
   "cell_type": "markdown",
   "id": "a1331af5-c76b-4aff-8078-606fcdb9dfdf",
   "metadata": {},
   "source": [
    "Data exploration is a critical stage in healthcare that leads to a better understanding of patient populations, the discovery of trends and patterns, and eventually, better patient outcomes.\n",
    " In this situation, data exploration can assist hospitals in learning how hospital ratings vary by ownership and type across various regions, which drugs are more frequently recommended by medical professionals in each area of the hospital etc to improve patient care or better allocate resources by researching and evaluating this data."
   ]
  },
  {
   "cell_type": "markdown",
   "id": "70f515a4-993b-4ffb-afe2-fdebc80d659f",
   "metadata": {
    "tags": []
   },
   "source": [
    "### hospital general info"
   ]
  },
  {
   "cell_type": "markdown",
   "id": "9eaa820b-1666-4fee-93e8-1ee3a3d8f73e",
   "metadata": {
    "tags": []
   },
   "source": [
    "#### What is the distribution of hospitals' overall ratings across different states?"
   ]
  },
  {
   "cell_type": "code",
   "execution_count": 47,
   "id": "a0104f5a-3cbf-48c5-9d32-26fb150a53b4",
   "metadata": {},
   "outputs": [
    {
     "name": "stderr",
     "output_type": "stream",
     "text": [
      "[Stage 45:>                                                         (0 + 1) / 1]\r"
     ]
    },
    {
     "name": "stdout",
     "output_type": "stream",
     "text": [
      "+-----+-------------+------------------+\n",
      "|state|num_hospitals|        avg_rating|\n",
      "+-----+-------------+------------------+\n",
      "|   HI|           25| 4.333333333333333|\n",
      "|   UT|           53|             4.125|\n",
      "|   CO|           94|              3.94|\n",
      "|   MT|           64|3.9047619047619047|\n",
      "|   WI|          137|3.8505747126436782|\n",
      "|   MN|          137|3.8333333333333335|\n",
      "|   SD|           58| 3.823529411764706|\n",
      "|   OH|          195|3.8208955223880596|\n",
      "|   OR|           62|3.7291666666666665|\n",
      "|   NE|           92| 3.588235294117647|\n",
      "|   MA|           79|3.5636363636363635|\n",
      "|   IA|          117| 3.540983606557377|\n",
      "|   MI|          143|3.5098039215686274|\n",
      "|   CT|           36|               3.5|\n",
      "|   VT|           16|               3.5|\n",
      "|   PA|          189|               3.5|\n",
      "|   NH|           28|3.4615384615384617|\n",
      "|   VA|           94|3.4025974025974026|\n",
      "|   IN|          146|               3.4|\n",
      "|   RI|           12|               3.4|\n",
      "+-----+-------------+------------------+\n",
      "only showing top 20 rows\n",
      "\n"
     ]
    },
    {
     "name": "stderr",
     "output_type": "stream",
     "text": [
      "                                                                                \r"
     ]
    }
   ],
   "source": [
    "from pyspark.sql.functions import col, count, avg\n",
    "\n",
    "ratings_distribution = hospital_general_info.groupBy(\"state\") \\\n",
    "    .agg(count(\"hospital_overall_rating\").alias(\"num_hospitals\"),\n",
    "         avg(\"hospital_overall_rating\").alias(\"avg_rating\")) \\\n",
    "    .orderBy(col(\"avg_rating\").desc())\n",
    "\n",
    "ratings_distribution.show()\n"
   ]
  },
  {
   "cell_type": "markdown",
   "id": "61227ef5-eddf-4007-8ed7-f42e26cdbb87",
   "metadata": {},
   "source": [
    "HI(Hawaii) has the highest average rating,and IN, RI has the lowerst average rating. \n"
   ]
  },
  {
   "cell_type": "markdown",
   "id": "1d47a0bb-a14c-4014-a541-293775c2c338",
   "metadata": {},
   "source": [
    "#### How does the rating vary with hospital ownership/hospital types (private/govt/non profit)- across various regions?"
   ]
  },
  {
   "cell_type": "code",
   "execution_count": 48,
   "id": "b3cc9920-eff8-42e6-9745-9a392a5ee400",
   "metadata": {},
   "outputs": [
    {
     "name": "stdout",
     "output_type": "stream",
     "text": [
      "+--------------------+--------------------+-----+-------------------+\n",
      "|  hospital_ownership|       hospital_type|state|avg_hospital_rating|\n",
      "+--------------------+--------------------+-----+-------------------+\n",
      "|Voluntary non-pro...|Critical Access H...|   FL| 3.6666666666666665|\n",
      "|  Government - Local|Acute Care Hospitals|   GA|                3.0|\n",
      "|  Government - Local|Acute Care Hospitals|   SC|                2.0|\n",
      "|  Government - State|Acute Care Hospitals|   WA|                4.0|\n",
      "|  Government - State|         Psychiatric|   VT|               null|\n",
      "|  Government - Local|Acute Care Hospitals|   MS| 1.9285714285714286|\n",
      "|Voluntary non-pro...|Acute Care Hospitals|   ME|                4.0|\n",
      "|         Proprietary|         Psychiatric|   KS|               null|\n",
      "|  Government - Local|Critical Access H...|   WY| 2.3333333333333335|\n",
      "|           Physician|Acute Care Hospitals|   CA| 2.6666666666666665|\n",
      "|  Government - State|         Psychiatric|   KY|               null|\n",
      "|Voluntary non-pro...|Acute Care Hospitals|   SC|  3.230769230769231|\n",
      "|  Government - Local|Acute Care Hospitals|   IN|  3.642857142857143|\n",
      "|Voluntary non-pro...|Acute Care Hospitals|   MT|                4.5|\n",
      "|  Government - State|Acute Care Hospitals|   VA|                4.0|\n",
      "|  Government - Local|         Psychiatric|   KY|               null|\n",
      "|Government - Hosp...|Acute Care Hospitals|   MI|                3.6|\n",
      "|Voluntary non-pro...|Acute Care Hospitals|   MI|             3.8125|\n",
      "|Voluntary non-pro...|           Childrens|   MO|               null|\n",
      "|  Government - Local|Acute Care Hospitals|   PR|               null|\n",
      "+--------------------+--------------------+-----+-------------------+\n",
      "only showing top 20 rows\n",
      "\n"
     ]
    }
   ],
   "source": [
    "import pandas as pd\n",
    "import matplotlib.pyplot as plt\n",
    "from pyspark.sql import SparkSession\n",
    "from pyspark.sql.functions import avg, desc\n",
    "\n",
    "result1 = hospital_general_info.groupBy(\"hospital_ownership\", \"hospital_type\", \"state\") \\\n",
    "    .agg(avg(\"hospital_overall_rating\").alias(\"avg_hospital_rating\"))\\\n",
    "    \n",
    "result1.show()"
   ]
  },
  {
   "cell_type": "markdown",
   "id": "45a81a58-e158-4c82-b511-f41e639a7b32",
   "metadata": {},
   "source": [
    "Observed that hospitals with different ownership and type can have a relatively high average rating. The combination of ownership and type also influence the average rating. For example, Proprietary ownership and Acute Care Hospitals in SD have a relatively high average rating of 5.0, while Government owned with Acute Care Hospitals in VI have a relatively low average rating. Voluntary non-profit ownership hospitals seem to have higher average ratings across different states compared to proprietary and government-owned hospitals. Acute Care Hospitals have more consistent ratings across various states and ownership types compared to other hospital types. Critical Access Hospitals have more variable ratings, with some states showing high average ratings while others have lower ratings."
   ]
  },
  {
   "cell_type": "markdown",
   "id": "a4ea6117-04a8-453a-ab6d-5fe4b5457884",
   "metadata": {},
   "source": [
    "#### Which counties have the highest concentration of hospitals with \"better-than-national-value-performance\" in all measure groups?"
   ]
  },
  {
   "cell_type": "code",
   "execution_count": 49,
   "id": "df5bf0b0-bb96-487f-b4d2-d3db38f17144",
   "metadata": {},
   "outputs": [
    {
     "name": "stdout",
     "output_type": "stream",
     "text": [
      "+------------+----------------------------------+\n",
      "| county_name|better_performance_hospitals_count|\n",
      "+------------+----------------------------------+\n",
      "| Los Angeles|                                 6|\n",
      "|        Cook|                                 6|\n",
      "|      Harris|                                 3|\n",
      "| Saint Louis|                                 3|\n",
      "|    Franklin|                                 2|\n",
      "|   Middlesex|                                 2|\n",
      "| Santa Clara|                                 2|\n",
      "|        King|                                 2|\n",
      "|      Nassau|                                 2|\n",
      "|   San Diego|                                 2|\n",
      "|       Duval|                                 2|\n",
      "|   Salt Lake|                                 2|\n",
      "|     Dauphin|                                 2|\n",
      "|   Milwaukee|                                 2|\n",
      "|    Maricopa|                                 2|\n",
      "|Hillsborough|                                 2|\n",
      "|   Washtenaw|                                 2|\n",
      "|    Hamilton|                                 2|\n",
      "|         Lee|                                 2|\n",
      "|    New York|                                 2|\n",
      "+------------+----------------------------------+\n",
      "only showing top 20 rows\n",
      "\n",
      "1. Los Angeles with 6 hospitals.\n",
      "2. Cook with 6 hospitals.\n",
      "3. Harris with 3 hospitals.\n",
      "4. Saint Louis with 3 hospitals.\n",
      "5. King with 2 hospitals.\n"
     ]
    }
   ],
   "source": [
    "from pyspark.sql.functions import count\n",
    "better_performance_hospitals = hospital_general_info.filter(\n",
    "    (hospital_general_info[\"mortality_measures_better_count\"] > 0)\n",
    "    & (hospital_general_info[\"safety_measures_better_count\"] > 0)\n",
    "    & (hospital_general_info[\"readmission_measures_better_count\"] > 0)\n",
    ")\n",
    "better_performance_county = better_performance_hospitals.groupBy(\"county_name\").agg(count(\"*\").alias(\"better_performance_hospitals_count\"))\n",
    "better_performance_county_sorted = better_performance_county.sort(\"better_performance_hospitals_count\", ascending=False)\n",
    "better_performance_county_sorted.show()\n",
    "top_counties = better_performance_county_sorted.take(5)\n",
    "for i, county in enumerate(top_counties, start=1):\n",
    "    print(f\"{i}. {county['county_name']} with {county['better_performance_hospitals_count']} hospitals.\")\n"
   ]
  },
  {
   "cell_type": "markdown",
   "id": "5fed0107-38c9-4f25-987b-6fbcaad697aa",
   "metadata": {},
   "source": [
    "Los Angeles and Cook have the most number of better-performance hospitals, and Harris, Saint Louis, and king also have a number of better-performance hospitals. \n",
    "Due to the better infrastructure, more experienced staff, and more government funding."
   ]
  },
  {
   "cell_type": "markdown",
   "id": "57dd3542-4c2b-4cb4-9b06-85421ae8363f",
   "metadata": {},
   "source": [
    "#### How do the different measure groups contribute to the overall hospital rating? Are certain measure groups more influential than others?"
   ]
  },
  {
   "cell_type": "code",
   "execution_count": 50,
   "id": "ebe3687a-38fc-4b4d-a42c-8d7ebf2b4680",
   "metadata": {},
   "outputs": [
    {
     "name": "stdout",
     "output_type": "stream",
     "text": [
      "Correlation between mortality_measures_better_count and hospital_overall_rating: 0.1966\n",
      "Correlation between safety_measures_better_count and hospital_overall_rating: 0.0502\n",
      "Correlation between readmission_measures_better_count and hospital_overall_rating: 0.3367\n"
     ]
    }
   ],
   "source": [
    "from pyspark.sql.functions import corr\n",
    "\n",
    "measure_group_correlations = hospital_general_info.select(\n",
    "    corr(\"mortality_measures_better_count\", \"hospital_overall_rating\").alias(\"mortality_corr\"),\n",
    "    corr(\"safety_measures_better_count\", \"hospital_overall_rating\").alias(\"safety_corr\"),\n",
    "    corr(\"readmission_measures_better_count\", \"hospital_overall_rating\").alias(\"readmission_corr\"),\n",
    ").first()\n",
    "\n",
    "print(f\"Correlation between mortality_measures_better_count and hospital_overall_rating: {measure_group_correlations['mortality_corr']:.4f}\")\n",
    "print(f\"Correlation between safety_measures_better_count and hospital_overall_rating: {measure_group_correlations['safety_corr']:.4f}\")\n",
    "print(f\"Correlation between readmission_measures_better_count and hospital_overall_rating: {measure_group_correlations['readmission_corr']:.4f}\")\n"
   ]
  },
  {
   "cell_type": "markdown",
   "id": "c6adb2f4-3c00-4855-a5f9-d0fa7f0e673d",
   "metadata": {},
   "source": [
    "The readmission measure has the strongest positive correlation with respect to the overall hospital rating. And mortality measure also has a positive correlation with respect to the overall rating. But it is weaker compared to readmission. Lastly, the safety measure has a positive correlation with respect to rating. This implies that hospitals with a higher count of better safety measures have a relatively smaller impact on the overall rating compared to the other two measure groups. It is suggested that hospitals should focus more on the readmission rate since it has more impact on the overall rating."
   ]
  },
  {
   "cell_type": "markdown",
   "id": "b7a98473-f250-49b4-85d0-5ab02d203d81",
   "metadata": {},
   "source": [
    "#### How does the rating vary with hospital ownership across various regions?"
   ]
  },
  {
   "cell_type": "code",
   "execution_count": 51,
   "id": "7a13bf3b-6a62-49cd-9f6c-e27f44d18d78",
   "metadata": {},
   "outputs": [
    {
     "name": "stdout",
     "output_type": "stream",
     "text": [
      "+--------------------+-----+-------------------+\n",
      "|  hospital_ownership|state|avg_hospital_rating|\n",
      "+--------------------+-----+-------------------+\n",
      "|              Tribal|   AK|                2.0|\n",
      "|Government - Federal|   TX|                4.0|\n",
      "|  Government - State|   PR|               null|\n",
      "|  Government - State|   MS|                2.0|\n",
      "|Voluntary non-pro...|   KY|                3.0|\n",
      "|Government - Hosp...|   AZ|                2.0|\n",
      "|              Tribal|   AZ|               null|\n",
      "|Voluntary non-pro...|   IN|                3.2|\n",
      "|Government - Hosp...|   AL|                3.0|\n",
      "|         Proprietary|   MS| 2.3333333333333335|\n",
      "|Voluntary non-pro...|   ID| 3.1818181818181817|\n",
      "|  Government - Local|   PA|                3.0|\n",
      "|  Government - State|   ND|               null|\n",
      "|Voluntary non-pro...|   VA|  3.425531914893617|\n",
      "|Voluntary non-pro...|   CA| 3.1904761904761907|\n",
      "|Voluntary non-pro...|   MS|                4.0|\n",
      "|Government - Federal|   ME|               null|\n",
      "|Voluntary non-pro...|   MD|  2.878787878787879|\n",
      "|Voluntary non-pro...|   IL|                3.0|\n",
      "|Government - Hosp...|   MS|                2.0|\n",
      "+--------------------+-----+-------------------+\n",
      "only showing top 20 rows\n",
      "\n"
     ]
    }
   ],
   "source": [
    "from pyspark.sql import SparkSession\n",
    "from pyspark.sql.functions import avg\n",
    "\n",
    "result2 = hospital_general_info.groupBy(\"hospital_ownership\", \"state\") \\\n",
    "    .agg(avg(\"hospital_overall_rating\").alias(\"avg_hospital_rating\"))\n",
    "\n",
    "result2.show()\n"
   ]
  },
  {
   "cell_type": "markdown",
   "id": "f91213f1-4ad0-4912-9800-113b36db4dd4",
   "metadata": {},
   "source": [
    "Observed that ownership types like Voluntary non-profit - Church and Voluntary non-profit - Other have a higher average ratings in some states. However, Government-owned and Proprietary hospitals might have lower average ratings in some locations. "
   ]
  },
  {
   "cell_type": "markdown",
   "id": "e61b464c-6ddc-48c9-8723-9b6ba3f02c77",
   "metadata": {},
   "source": [
    "#### How does the rating vary with hospital types  across various regions?"
   ]
  },
  {
   "cell_type": "code",
   "execution_count": 53,
   "id": "ecc7e600-9f20-4aaa-a62d-f020818fafad",
   "metadata": {},
   "outputs": [
    {
     "name": "stdout",
     "output_type": "stream",
     "text": [
      "+--------------------+-----+-------------------+\n",
      "|       hospital_type|state|avg_hospital_rating|\n",
      "+--------------------+-----+-------------------+\n",
      "|Acute Care Hospitals|   HI|  4.333333333333333|\n",
      "|Critical Access H...|   OK|               4.25|\n",
      "|Acute Care Hospitals|   UT|              4.125|\n",
      "|Acute Care Hospitals|   MT|  4.090909090909091|\n",
      "|Acute Care Hospitals|   WI|  4.081967213114754|\n",
      "|Acute Care Hospitals|   CO| 4.0476190476190474|\n",
      "|Acute Care Hospitals|   SD|                4.0|\n",
      "|Acute Care Hospitals|   MN|  3.978723404255319|\n",
      "|Acute Care Hospitals|   OR|            3.96875|\n",
      "|Acute Care Hospitals|   OH| 3.8849557522123894|\n",
      "|Acute Care Hospitals|   NH| 3.8461538461538463|\n",
      "|Acute Care Hospitals|   NE| 3.8421052631578947|\n",
      "|Acute Care Hospitals|   VT| 3.8333333333333335|\n",
      "|Critical Access H...|   NC|               3.75|\n",
      "|Acute Care Hospitals|   ID|  3.727272727272727|\n",
      "|Critical Access H...|   MT|                3.7|\n",
      "|Acute Care Hospitals|   IA| 3.6666666666666665|\n",
      "|Critical Access H...|   NM|                3.6|\n",
      "|Acute Care Hospitals|   MA|  3.576923076923077|\n",
      "|Critical Access H...|   WV| 3.5714285714285716|\n",
      "+--------------------+-----+-------------------+\n",
      "only showing top 20 rows\n",
      "\n"
     ]
    }
   ],
   "source": [
    "from pyspark.sql import SparkSession\n",
    "from pyspark.sql.functions import avg\n",
    "\n",
    "result3 = hospital_general_info.groupBy(\"hospital_type\", \"state\") \\\n",
    "    .agg(avg(\"hospital_overall_rating\").alias(\"avg_hospital_rating\")) \\\n",
    "    .orderBy(desc(\"avg_hospital_rating\"))\n",
    "\n",
    "result3.show()\n",
    "\n"
   ]
  },
  {
   "cell_type": "markdown",
   "id": "9f4433d0-5bbd-4e76-94b6-7ba61f59b042",
   "metadata": {},
   "source": [
    "Observed that the top average rating hospital ownership and types in various states based on their average overall ratings.\n",
    "For example, proprietary acute care hospitals in South Dakota(SD), government hospital district acute care hospitals in Wisconsin, and local government acute care hospitals in Oregon are all associated with the highest average hospital ratings of 5.0. "
   ]
  },
  {
   "cell_type": "markdown",
   "id": "b7caf705-f73e-407d-b4b2-80b03fc2d89c",
   "metadata": {},
   "source": [
    "#### What is the overall rating of different hospitals and how does it vary across different states and region?"
   ]
  },
  {
   "cell_type": "code",
   "execution_count": 54,
   "id": "34172fff-5373-4f18-9443-52921de6fbe6",
   "metadata": {},
   "outputs": [
    {
     "data": {
      "image/png": "[encoded data removed]",
      "text/plain": [
       "<Figure size 1500x600 with 1 Axes>"
      ]
     },
     "metadata": {},
     "output_type": "display_data"
    }
   ],
   "source": [
    "from pyspark.sql import SparkSession\n",
    "import pandas as pd\n",
    "import matplotlib.pyplot as plt\n",
    "\n",
    "result4 = hospital_general_info.groupBy(\"state\") \\\n",
    "    .agg(avg(\"hospital_overall_rating\").alias(\"avg_hospital_rating\"))\n",
    "\n",
    "# Convert the result to a Pandas DataFrame for plotting\n",
    "result4_pd = result4.toPandas()\n",
    "\n",
    "# Sort the DataFrame by state\n",
    "result4_pd = result4_pd.sort_values(by=\"state\")\n",
    "\n",
    "# Create a bar chart with the average hospital rating by state\n",
    "plt.figure(figsize=(15, 6))\n",
    "plt.bar(result4_pd[\"state\"], result4_pd[\"avg_hospital_rating\"])\n",
    "plt.xlabel(\"State\")\n",
    "plt.ylabel(\"Average Hospital Overall Rating\")\n",
    "plt.title(\"Average Hospital Overall Rating by State\")\n",
    "plt.xticks(rotation=90)\n",
    "plt.show()\n"
   ]
  },
  {
   "cell_type": "markdown",
   "id": "192c9049-50e0-4a49-812e-ba9d630f8464",
   "metadata": {},
   "source": [
    "Observed that States with the highest average hospital ratings are Colorado, Hawaii, Minnesota, Montana, Ohio, Utah, and Wisconsin.\n",
    "And States with the lowest average hospital ratings are DC, Puerto Rico, and Virgin Island."
   ]
  },
  {
   "cell_type": "markdown",
   "id": "c75c269c-7b81-4929-9fcc-5384481fb71c",
   "metadata": {},
   "source": [
    "#### Average Hospital Overall Rating by Hospital Type and Ownership\n"
   ]
  },
  {
   "cell_type": "code",
   "execution_count": 55,
   "id": "ee79957e-b985-4d1a-82dd-1be0f6acc25d",
   "metadata": {},
   "outputs": [
    {
     "name": "stdout",
     "output_type": "stream",
     "text": [
      "+--------------------+--------------------+-------------------+\n",
      "|       hospital_type|  hospital_ownership|avg_hospital_rating|\n",
      "+--------------------+--------------------+-------------------+\n",
      "|Acute Care Hospitals|              Tribal|                3.0|\n",
      "|Critical Access H...|Government - Hosp...| 3.1470588235294117|\n",
      "|Acute Care Hospitals|         Proprietary|  2.923791821561338|\n",
      "|Critical Access H...|Voluntary non-pro...|                3.5|\n",
      "|         Psychiatric|Voluntary non-pro...|               null|\n",
      "|Acute Care Hospitals|           Physician| 3.5454545454545454|\n",
      "|           Childrens|Voluntary non-pro...|               null|\n",
      "|         Psychiatric|         Proprietary|               null|\n",
      "|Acute Care Hospitals|Voluntary non-pro...| 3.4790874524714828|\n",
      "|Acute Care - Depa...|Department of Def...|               null|\n",
      "|Acute Care Hospitals|Voluntary non-pro...|  3.392883079157589|\n",
      "|           Childrens|Government - Hosp...|               null|\n",
      "|Acute Care Hospitals|Government - Federal|  3.111111111111111|\n",
      "|         Psychiatric|Government - Federal|               null|\n",
      "|           Childrens|Voluntary non-pro...|               null|\n",
      "|         Psychiatric|Voluntary non-pro...|               null|\n",
      "|           Childrens|  Government - State|               null|\n",
      "|Critical Access H...|              Tribal|               null|\n",
      "|Acute Care Hospitals|Voluntary non-pro...|  3.502127659574468|\n",
      "|Acute Care Hospitals|  Government - Local|  2.804054054054054|\n",
      "+--------------------+--------------------+-------------------+\n",
      "only showing top 20 rows\n",
      "\n"
     ]
    }
   ],
   "source": [
    "from pyspark.sql import SparkSession\n",
    "from pyspark.sql.functions import avg\n",
    "import pandas as pd\n",
    "import seaborn as sns\n",
    "import matplotlib.pyplot as plt\n",
    "\n",
    "\n",
    "result5 = hospital_general_info.groupBy(\"hospital_type\", \"hospital_ownership\") \\\n",
    "    .agg(avg(\"hospital_overall_rating\").alias(\"avg_hospital_rating\"))\n",
    "result5.show()\n"
   ]
  },
  {
   "cell_type": "markdown",
   "id": "fd8f176e-dd3b-49ab-b0ca-8f868224371f",
   "metadata": {},
   "source": [
    "Observed that the combination of Physician ownership with Acute Care Hospitals, Voluntary non-profit - Churches with Critical Access, Voluntary non-profit - churches with Acute Care Hospitals, and Voluntary non-profit - Others with Acute Care Hospitals tend to have a higher average rating. \n",
    "Government-owned Acute Care Hospitals, Government - Hospital Districts or Authority with Acute Care Hospitals, and Proprietary Acute Care Hospitals tend to have a lower average rating."
   ]
  },
  {
   "cell_type": "markdown",
   "id": "f18d8208-f094-4acc-813e-3c6b861a0496",
   "metadata": {},
   "source": [
    "#### What is the overall rating of different hospitals and how does it vary with hospital ownership/hospital types (private/govt/non profit)\n"
   ]
  },
  {
   "cell_type": "code",
   "execution_count": 80,
   "id": "b1943f8a-8d31-45f5-99dd-47f6aae94aa1",
   "metadata": {},
   "outputs": [
    {
     "data": {
      "image/png": "[encoded data removed]",
      "text/plain": [
       "<Figure size 1500x600 with 1 Axes>"
      ]
     },
     "metadata": {},
     "output_type": "display_data"
    }
   ],
   "source": [
    "from pyspark.sql import SparkSession\n",
    "from pyspark.sql.functions import avg\n",
    "import pandas as pd\n",
    "import matplotlib.pyplot as plt\n",
    "\n",
    "result6 = hospital_general_info.groupBy(\"hospital_ownership\") \\\n",
    "    .agg(avg(\"hospital_overall_rating\").alias(\"avg_hospital_rating\"))\n",
    "\n",
    "# Convert the result to a Pandas DataFrame for plotting\n",
    "result6_pd = result6.toPandas()\n",
    "\n",
    "# Sort the DataFrame by average hospital rating\n",
    "result6_pd = result6_pd.sort_values(by=\"avg_hospital_rating\", ascending=False)\n",
    "\n",
    "# Create a bar chart with the average hospital rating by hospital ownership\n",
    "plt.figure(figsize=(15, 6))\n",
    "plt.bar(result6_pd[\"hospital_ownership\"], result6_pd[\"avg_hospital_rating\"])\n",
    "plt.xlabel(\"Hospital Ownership\")\n",
    "plt.ylabel(\"Average Hospital Overall Rating\")\n",
    "plt.title(\"Average Hospital Overall Rating by Hospital Ownership\")\n",
    "plt.xticks(rotation=90)\n",
    "plt.ylim(0, 5)\n",
    "plt.show()"
   ]
  },
  {
   "cell_type": "markdown",
   "id": "e1d84621-87d5-49d8-9fe8-73dfdc249f69",
   "metadata": {},
   "source": [
    "The output of the code mentioned in the previous question shows the average hospital overall rating by hospital ownership, sorted in descending order. Based on the output, it appears that \"Physicians\" have the highest average hospital overall rating, followed by \"Voluntary non-profit - Church\" and \"Government - Local\"."
   ]
  },
  {
   "cell_type": "markdown",
   "id": "01a1fc70-9e75-46c4-888a-267af52aabbe",
   "metadata": {
    "tags": []
   },
   "source": [
    "### inpatient_all"
   ]
  },
  {
   "cell_type": "code",
   "execution_count": 56,
   "id": "5286acf7-4cd6-42ef-8cd5-f9d4e9e7fc62",
   "metadata": {
    "tags": []
   },
   "outputs": [
    {
     "name": "stderr",
     "output_type": "stream",
     "text": [
      "                                                                                \r"
     ]
    },
    {
     "name": "stdout",
     "output_type": "stream",
     "text": [
      "+-----------------------------+\n",
      "|count(DISTINCT provider_name)|\n",
      "+-----------------------------+\n",
      "|                         3893|\n",
      "+-----------------------------+\n",
      "\n"
     ]
    },
    {
     "name": "stderr",
     "output_type": "stream",
     "text": [
      "                                                                                \r"
     ]
    },
    {
     "name": "stdout",
     "output_type": "stream",
     "text": [
      "+------------------------------+\n",
      "|count(DISTINCT drg_definition)|\n",
      "+------------------------------+\n",
      "|                           598|\n",
      "+------------------------------+\n",
      "\n"
     ]
    },
    {
     "name": "stderr",
     "output_type": "stream",
     "text": [
      "[Stage 84:===========================================>              (3 + 1) / 4]\r"
     ]
    },
    {
     "name": "stdout",
     "output_type": "stream",
     "text": [
      "+----------------------------------------------------+\n",
      "|count(DISTINCT hospital_referral_region_description)|\n",
      "+----------------------------------------------------+\n",
      "|                                                 307|\n",
      "+----------------------------------------------------+\n",
      "\n"
     ]
    },
    {
     "name": "stderr",
     "output_type": "stream",
     "text": [
      "                                                                                \r"
     ]
    }
   ],
   "source": [
    "from pyspark.sql.functions import count, col, to_date, countDistinct, min, max, sum, count, avg, expr\n",
    "#check unique values\n",
    "inpatient_all.select(countDistinct(\"provider_name\")).show()\n",
    "inpatient_all.select(countDistinct(\"drg_definition\")).show()\n",
    "inpatient_all.select(countDistinct(\"hospital_referral_region_description\")).show()"
   ]
  },
  {
   "cell_type": "markdown",
   "id": "8e1f761f-462b-4dda-bbf7-91e5d8f8f864",
   "metadata": {},
   "source": [
    "There are 3893 distinct healthcare provider, 598 DRGs, and 306 hospital referral regions."
   ]
  },
  {
   "cell_type": "markdown",
   "id": "eb19e236-1dce-4039-a68e-e88bbe1acdc8",
   "metadata": {
    "tags": []
   },
   "source": [
    "#### Which Drugs are most commonly prescribed by medical providers in each region of the hospital?\n",
    "**NOTE:** 1. Discharge is defined as: \"a discharge releases a debtor from personal liability of certain debts known as dischargeable debts, \n",
    "#and prevents the creditors owed those debts from taking any action against the debtor or the debtor's property to collect the debts.\"\n",
    "2. MS-DRGs are a classification system that groups similar clinical conditions (diagnoses) and the procedures furnished by the hospital during the stay"
   ]
  },
  {
   "cell_type": "markdown",
   "id": "6167e86e-5e32-4fb4-b570-f3d1ae7054a1",
   "metadata": {
    "tags": []
   },
   "source": [
    "##### Total discharges of each region"
   ]
  },
  {
   "cell_type": "code",
   "execution_count": 57,
   "id": "ad1de921-297f-401f-89e7-69b1d534e18d",
   "metadata": {},
   "outputs": [
    {
     "name": "stderr",
     "output_type": "stream",
     "text": [
      "[Stage 90:===========================================>              (3 + 1) / 4]\r"
     ]
    },
    {
     "name": "stdout",
     "output_type": "stream",
     "text": [
      "+------------------------------------+------+\n",
      "|hospital_referral_region_description| count|\n",
      "+------------------------------------+------+\n",
      "|                         MA - Boston|612656|\n",
      "|                    CA - Los Angeles|545076|\n",
      "|                        FL - Orlando|474972|\n",
      "|                      NY - Manhattan|449076|\n",
      "|                NY - East Long Is...|440353|\n",
      "|                   PA - Philadelphia|428114|\n",
      "|                        GA - Atlanta|421665|\n",
      "|                        TX - Houston|410494|\n",
      "|                      MD - Baltimore|406927|\n",
      "|                      MO - St. Louis|403256|\n",
      "|                         NJ - Camden|395948|\n",
      "|                         TX - Dallas|355025|\n",
      "|                      TN - Nashville|292869|\n",
      "|                FL - Fort Lauderdale|290657|\n",
      "|                     DC - Washington|283800|\n",
      "|                   IN - Indianapolis|279007|\n",
      "|                      OH - Cleveland|276572|\n",
      "|                     AL - Birmingham|274351|\n",
      "|                       OH - Columbus|256900|\n",
      "|                    MO - Kansas City|250785|\n",
      "+------------------------------------+------+\n",
      "only showing top 20 rows\n",
      "\n"
     ]
    },
    {
     "name": "stderr",
     "output_type": "stream",
     "text": [
      "                                                                                \r"
     ]
    }
   ],
   "source": [
    "#group by regions and see the sum of total charges\n",
    "from pyspark.sql.functions import desc\n",
    "inpatient_all.groupby(\"hospital_referral_region_description\").agg(sum(\"total_discharges\").alias(\"count\")).orderBy(desc(\"count\")).show()"
   ]
  },
  {
   "cell_type": "code",
   "execution_count": 58,
   "id": "635a5c97-8d37-4520-84ec-4e4e54045a31",
   "metadata": {},
   "outputs": [
    {
     "name": "stderr",
     "output_type": "stream",
     "text": [
      "                                                                                \r"
     ]
    },
    {
     "data": {
      "image/png": "[encoded data removed]",
      "text/plain": [
       "<Figure size 640x480 with 1 Axes>"
      ]
     },
     "metadata": {},
     "output_type": "display_data"
    }
   ],
   "source": [
    "#plotting the top 20 table\n",
    "import matplotlib.pyplot as plt\n",
    "df = inpatient_all.groupby(\"hospital_referral_region_description\").agg(sum(\"total_discharges\").alias(\"count\")).orderBy(desc(\"count\")).limit(20).toPandas()\n",
    "plt.barh(df[\"hospital_referral_region_description\"], df[\"count\"])\n",
    "plt.xlabel(\"Count\")\n",
    "plt.ylabel(\"Hospital Referral Region\")\n",
    "plt.title(\"Total Discharges by Hospital Referral Region\")\n",
    "plt.show()"
   ]
  },
  {
   "cell_type": "markdown",
   "id": "f628fd42-8651-459d-8f03-129c777bd1c7",
   "metadata": {},
   "source": [
    "The table indicates that Boston, MA, has the highest number of discharges with 612,656, followed by Los Angeles, CA, with 545,076 discharges. Other cities with high discharges include Orlando, FL, Manhattan, NY, and East Long Island, NY. Overall, the data shows that hospital referral regions in the Northeast and West Coast have higher numbers of discharges than regions in other parts of the country."
   ]
  },
  {
   "cell_type": "markdown",
   "id": "78e27115-f7fe-475e-bce7-b6388d01dfe9",
   "metadata": {
    "tags": []
   },
   "source": [
    "##### Drug price and bill frequency in MA - Boston"
   ]
  },
  {
   "cell_type": "code",
   "execution_count": 59,
   "id": "9639d94c-e1d6-4239-917b-7c8cecc1e673",
   "metadata": {},
   "outputs": [
    {
     "name": "stderr",
     "output_type": "stream",
     "text": [
      "[Stage 96:===========================================>              (3 + 1) / 4]\r"
     ]
    },
    {
     "name": "stdout",
     "output_type": "stream",
     "text": [
      "+--------------------+-----+\n",
      "|      drg_definition|count|\n",
      "+--------------------+-----+\n",
      "|470 - MAJOR JOINT...|  157|\n",
      "|194 - SIMPLE PNEU...|  156|\n",
      "|292 - HEART FAILU...|  155|\n",
      "|603 - CELLULITIS ...|  155|\n",
      "|690 - KIDNEY & UR...|  154|\n",
      "|392 - ESOPHAGITIS...|  154|\n",
      "|190 - CHRONIC OBS...|  153|\n",
      "|191 - CHRONIC OBS...|  152|\n",
      "|683 - RENAL FAILU...|  152|\n",
      "|871 - SEPTICEMIA ...|  152|\n",
      "|291 - HEART FAILU...|  152|\n",
      "|378 - G.I. HEMORR...|  151|\n",
      "|309 - CARDIAC ARR...|  149|\n",
      "|641 - MISC DISORD...|  149|\n",
      "|193 - SIMPLE PNEU...|  149|\n",
      "|293 - HEART FAILU...|  148|\n",
      "|682 - RENAL FAILU...|  147|\n",
      "|312 - SYNCOPE & C...|  145|\n",
      "|689 - KIDNEY & UR...|  144|\n",
      "|192 - CHRONIC OBS...|  142|\n",
      "+--------------------+-----+\n",
      "only showing top 20 rows\n",
      "\n"
     ]
    },
    {
     "name": "stderr",
     "output_type": "stream",
     "text": [
      "                                                                                \r"
     ]
    }
   ],
   "source": [
    "#medicine billed frequency in Boston\n",
    "inpatient_all.where(col(\"hospital_referral_region_description\") == \"MA - Boston\").groupby(\"drg_definition\").count().orderBy(desc(\"count\")).show()"
   ]
  },
  {
   "cell_type": "markdown",
   "id": "b6385dfa-08a1-4a82-9677-f14cc860558e",
   "metadata": {},
   "source": [
    "DRG 470 (MAJOR JOINT REPLACEMENT OR REATTACHMENT OF LOWER EXTREMITY W/O MCC) has the highest billing frequency in Boston area. There is not much difference between the billed frequency between the top 20 DRGs, which all exceeds 140."
   ]
  },
  {
   "cell_type": "code",
   "execution_count": 60,
   "id": "2d52aacc-9220-4858-b4da-1a547d1dbea9",
   "metadata": {},
   "outputs": [
    {
     "name": "stderr",
     "output_type": "stream",
     "text": [
      "[Stage 99:===========================================>              (3 + 1) / 4]\r"
     ]
    },
    {
     "name": "stdout",
     "output_type": "stream",
     "text": [
      "+--------------------+----------+--------------+\n",
      "|      drg_definition|discharges|payment amount|\n",
      "+--------------------+----------+--------------+\n",
      "|470 - MAJOR JOINT...|     36728|     5294968.0|\n",
      "|871 - SEPTICEMIA ...|     32651|     3989905.0|\n",
      "|392 - ESOPHAGITIS...|     20844|     1851015.0|\n",
      "|292 - HEART FAILU...|     18259|     2215837.0|\n",
      "|291 - HEART FAILU...|     16620|     3197322.0|\n",
      "|690 - KIDNEY & UR...|     15658|     1730318.0|\n",
      "|194 - SIMPLE PNEU...|     14484|     2047015.0|\n",
      "|603 - CELLULITIS ...|     13284|     1688680.0|\n",
      "|190 - CHRONIC OBS...|     12660|     2422126.0|\n",
      "|683 - RENAL FAILU...|     12368|     2023001.0|\n",
      "|378 - G.I. HEMORR...|     11875|     2523305.0|\n",
      "|193 - SIMPLE PNEU...|     11171|     2980423.0|\n",
      "|191 - CHRONIC OBS...|     11124|     1922759.0|\n",
      "|641 - MISC DISORD...|     10799|     1625998.0|\n",
      "|312 - SYNCOPE & C...|     10035|     1759709.0|\n",
      "|309 - CARDIAC ARR...|      9054|     1799496.0|\n",
      "|682 - RENAL FAILU...|      8059|     3174561.0|\n",
      "|189 - PULMONARY E...|      7956|     2725345.0|\n",
      "|689 - KIDNEY & UR...|      7796|     2194380.0|\n",
      "|310 - CARDIAC ARR...|      6987|     1294019.0|\n",
      "+--------------------+----------+--------------+\n",
      "only showing top 20 rows\n",
      "\n"
     ]
    },
    {
     "name": "stderr",
     "output_type": "stream",
     "text": [
      "                                                                                \r"
     ]
    }
   ],
   "source": [
    "#bill amount per medicine in Boston\n",
    "inpatient_all.where(col(\"hospital_referral_region_description\") == \"MA - Boston\")\\\n",
    "             .groupby(\"drg_definition\").agg(sum(\"total_discharges\").alias(\"discharges\"), sum(\"average_covered_charges\").alias(\"payment amount\"))\\\n",
    "             .orderBy(desc(\"discharges\")).show()"
   ]
  },
  {
   "cell_type": "markdown",
   "id": "f8147f0c-67ef-4cdb-8bec-40805b4bd799",
   "metadata": {},
   "source": [
    "The Drug with the most discharges and total payment is \"470 - MAJOR JOINT REPLACEMENT OR REATTACHMENT OF LOWER EXTREMITY W/O MCC\" with 36,728 discharges and a payment amount of $5,294,968."
   ]
  },
  {
   "cell_type": "code",
   "execution_count": 61,
   "id": "db45da6f-16f7-45f1-8c15-e4c3abb0e154",
   "metadata": {},
   "outputs": [
    {
     "name": "stderr",
     "output_type": "stream",
     "text": [
      "[Stage 102:==========================================>              (3 + 1) / 4]\r"
     ]
    },
    {
     "name": "stdout",
     "output_type": "stream",
     "text": [
      "+--------------------+------------------+\n",
      "|      drg_definition| avg_covered_price|\n",
      "+--------------------+------------------+\n",
      "|001 - HEART TRANS...|         817209.25|\n",
      "|005 - LIVER TRANS...| 453620.6666666667|\n",
      "|003 - ECMO OR TRA...|          436866.0|\n",
      "|003 - ECMO OR TRA...|410652.28571428574|\n",
      "|004 - TRACH W MV ...|321185.45454545453|\n",
      "|014 - ALLOGENEIC ...|          319653.8|\n",
      "|837 - CHEMO W ACU...|          288217.5|\n",
      "|834 - ACUTE LEUKE...|          230120.6|\n",
      "|016 - AUTOLOGOUS ...|         229207.25|\n",
      "|226 - CARDIAC DEF...|          218604.5|\n",
      "|028 - SPINAL PROC...|          203943.0|\n",
      "|216 - CARDIAC VAL...|          203705.5|\n",
      "|229 - OTHER CARDI...|          192244.0|\n",
      "|652 - KIDNEY TRAN...|188709.72727272726|\n",
      "|457 - SPINAL FUS ...|178268.66666666666|\n",
      "|454 - COMBINED AN...|177809.33333333334|\n",
      "|266 - ENDOVASCULA...|174280.66666666666|\n",
      "|453 - COMBINED AN...|          172877.0|\n",
      "|219 - CARDIAC VAL...|165822.64285714287|\n",
      "|233 - CORONARY BY...|161188.18181818182|\n",
      "+--------------------+------------------+\n",
      "only showing top 20 rows\n",
      "\n"
     ]
    },
    {
     "name": "stderr",
     "output_type": "stream",
     "text": [
      "                                                                                \r"
     ]
    }
   ],
   "source": [
    "#DRG price accross providers in Boston\n",
    "inpatient_all.where(col(\"hospital_referral_region_description\") == \"MA - Boston\")\\\n",
    "             .groupby(\"drg_definition\")\\\n",
    "             .agg(avg(\"average_covered_charges\").alias(\"avg_covered_price\"))\\\n",
    "             .orderBy(desc(\"avg_covered_price\")).show()"
   ]
  },
  {
   "cell_type": "markdown",
   "id": "4348a40b-e235-4527-807d-5015e9b6c6cf",
   "metadata": {},
   "source": [
    "The averag Drug price is calculated by taking the mean of all `average_covered_charges` of each `drg_definition` accross all providers in Boston region. After ranking of 100 `drg_definition`, the highest prices belong to surgeries, while heart transfer leads the table."
   ]
  },
  {
   "cell_type": "markdown",
   "id": "ff6de41e-97ac-4957-9d46-591c6e848dbf",
   "metadata": {
    "tags": []
   },
   "source": [
    "#### Discharges and payment information of providers:"
   ]
  },
  {
   "cell_type": "markdown",
   "id": "a8ea8e8a-3da9-473a-a51e-ada04e85649a",
   "metadata": {
    "tags": []
   },
   "source": [
    "##### Highest total discharges of each provider and their region"
   ]
  },
  {
   "cell_type": "code",
   "execution_count": 62,
   "id": "4819868a-7a98-4b11-a7eb-9d08619dd4ae",
   "metadata": {},
   "outputs": [
    {
     "name": "stderr",
     "output_type": "stream",
     "text": [
      "[Stage 105:==========================================>              (3 + 1) / 4]\r"
     ]
    },
    {
     "name": "stdout",
     "output_type": "stream",
     "text": [
      "+--------------------+------------------------------------+------+\n",
      "|       provider_name|hospital_referral_region_description| count|\n",
      "+--------------------+------------------------------------+------+\n",
      "|    FLORIDA HOSPITAL|                        FL - Orlando|125240|\n",
      "|NEW YORK-PRESBYTE...|                      NY - Manhattan| 83730|\n",
      "|CHRISTIANA CARE H...|                     DE - Wilmington| 73000|\n",
      "|  METHODIST HOSPITAL|                    TX - San Antonio| 69694|\n",
      "|METHODIST HEALTHC...|                        TN - Memphis| 63136|\n",
      "|YALE-NEW HAVEN HO...|                      CT - New Haven| 59660|\n",
      "|CEDARS-SINAI MEDI...|                    CA - Los Angeles| 52651|\n",
      "|SOUTHCOAST HOSPIT...|                         MA - Boston| 52582|\n",
      "|MASSACHUSETTS GEN...|                         MA - Boston| 52566|\n",
      "|VIDANT MEDICAL CE...|                     NC - Greenville| 52467|\n",
      "|BARNES JEWISH HOS...|                      MO - St. Louis| 52163|\n",
      "|NEW HANOVER REGIO...|                     NC - Wilmington| 51293|\n",
      "| HUNTSVILLE HOSPITAL|                     AL - Huntsville| 50454|\n",
      "|MEMORIAL MISSION ...|                      NC - Asheville| 50370|\n",
      "|MEMORIAL HERMANN ...|                        TX - Houston| 50259|\n",
      "|   EVANSTON HOSPITAL|                       IL - Evanston| 49966|\n",
      "|BAPTIST MEDICAL C...|                    TX - San Antonio| 49403|\n",
      "|MONTEFIORE MEDICA...|                          NY - Bronx| 48230|\n",
      "|NORTH SHORE UNIVE...|                NY - East Long Is...| 47855|\n",
      "|    CLEVELAND CLINIC|                      OH - Cleveland| 47694|\n",
      "+--------------------+------------------------------------+------+\n",
      "only showing top 20 rows\n",
      "\n"
     ]
    },
    {
     "name": "stderr",
     "output_type": "stream",
     "text": [
      "                                                                                \r"
     ]
    }
   ],
   "source": [
    "#group by provider's name to find the hospital with most discharges\n",
    "inpatient_all.groupby(\"provider_name\", \"hospital_referral_region_description\")\\\n",
    "             .agg(sum(\"total_discharges\").alias(\"count\"))\\\n",
    "             .orderBy(desc(\"count\")).show(20)"
   ]
  },
  {
   "cell_type": "markdown",
   "id": "799c71f3-20c9-4f5a-8d8e-0b0b6ad38b21",
   "metadata": {},
   "source": [
    "From both the table and the graph, we can see that Florida Hospital has a very large number of discharges compared to any other healthcare providers. The common pattern with the top 20 list is about 50,000 discharges over 2012-2015 period."
   ]
  },
  {
   "cell_type": "markdown",
   "id": "564e5a66-cf77-4ecf-853c-54a91f71c691",
   "metadata": {
    "tags": []
   },
   "source": [
    "##### What is highest total Medicare payment accross regions? Who are these healthcare providers?"
   ]
  },
  {
   "cell_type": "code",
   "execution_count": 63,
   "id": "fc216cd7-4928-469c-b7f7-4636eaa3db3f",
   "metadata": {},
   "outputs": [
    {
     "name": "stderr",
     "output_type": "stream",
     "text": [
      "[Stage 110:============================>                            (1 + 1) / 2]\r"
     ]
    },
    {
     "name": "stdout",
     "output_type": "stream",
     "text": [
      "+--------------------+------------------------------------+----+----------------+-----------+\n",
      "|       provider_name|hospital_referral_region_description|year|total_discharges|tot_payment|\n",
      "+--------------------+------------------------------------+----+----------------+-----------+\n",
      "|HOSPITAL FOR SPEC...|                      NY - Manhattan|2015|            3990| 5.653032E7|\n",
      "|HOSPITAL FOR SPEC...|                      NY - Manhattan|2014|            3855| 5.482581E7|\n",
      "|HOSPITAL FOR SPEC...|                      NY - Manhattan|2012|            3657|5.4434445E7|\n",
      "|HOSPITAL FOR SPEC...|                      NY - Manhattan|2013|            3680| 5.198736E7|\n",
      "|NEW ENGLAND BAPTI...|                         MA - Boston|2015|            2120|  2.79522E7|\n",
      "|NEW YORK-PRESBYTE...|                      NY - Manhattan|2014|             124|2.7476416E7|\n",
      "|NEW YORK-PRESBYTE...|                      NY - Manhattan|2014|             275|2.7268175E7|\n",
      "|NEW ENGLAND BAPTI...|                         MA - Boston|2014|            2039|2.6986165E7|\n",
      "|NEW YORK-PRESBYTE...|                      NY - Manhattan|2015|             119| 2.511971E7|\n",
      "|NEW ENGLAND BAPTI...|                         MA - Boston|2013|            1960| 2.502528E7|\n",
      "|NEW YORK-PRESBYTE...|                      NY - Manhattan|2014|             323|2.4318347E7|\n",
      "|NEW ENGLAND BAPTI...|                         MA - Boston|2012|            1864| 2.402696E7|\n",
      "|SILVER LAKE MEDIC...|                    CA - Los Angeles|2014|            2027|2.2866587E7|\n",
      "|CEDARS-SINAI MEDI...|                    CA - Los Angeles|2015|              64|2.1963456E7|\n",
      "|MAYO CLINIC HOSPI...|                      MN - Rochester|2015|             107|2.1884924E7|\n",
      "|    CLEVELAND CLINIC|                      OH - Cleveland|2014|             160| 2.142912E7|\n",
      "|MAYO CLINIC HOSPI...|                      MN - Rochester|2015|            1307|2.1396897E7|\n",
      "|JOHNS HOPKINS HOS...|                      MD - Baltimore|2014|             152|2.1110976E7|\n",
      "|    CLEVELAND CLINIC|                      OH - Cleveland|2014|             408|2.1027096E7|\n",
      "|YALE-NEW HAVEN HO...|                      CT - New Haven|2015|            1233|2.0742759E7|\n",
      "+--------------------+------------------------------------+----+----------------+-----------+\n",
      "only showing top 20 rows\n",
      "\n"
     ]
    },
    {
     "name": "stderr",
     "output_type": "stream",
     "text": [
      "                                                                                \r"
     ]
    }
   ],
   "source": [
    "#create the total medicare payment for each DRG\n",
    "total_medi = inpatient_all.withColumn(\"total_medicare\", col(\"average_medicare_payments\") * col(\"total_discharges\"))\n",
    "#group by provider's name to see the top 20 in this category\n",
    "total_medi.groupby(\"provider_name\", \"hospital_referral_region_description\", \"year\", \"total_discharges\")\\\n",
    "          .agg(sum(\"total_medicare\").alias(\"tot_payment\"))\\\n",
    "          .orderBy(desc(\"tot_payment\")).show()"
   ]
  },
  {
   "cell_type": "markdown",
   "id": "773df3e6-debc-4451-b5e5-f3b1b2bdbf42",
   "metadata": {},
   "source": [
    "The above results show the hospitals with the highest Medicare payments, along with total discharges, from the years 2012 to 2015. Total Medicare payments is calculated as the sum of the product of `total_discharges` * `average_medicare_payments` in each row, The Hospital for Special Surgery in Manhattan had the highest total discharges and total payments across all years, well exceeding the others. New England Baptist Hospital in Boston and Cleveland Clinic in Ohio also had high total discharges and payments. Overall, these results provide some insight into which hospitals are serving the most patients and generating the highest revenue in the given time frame."
   ]
  },
  {
   "cell_type": "markdown",
   "id": "edef5184-dcf2-41ba-8340-91b105051b59",
   "metadata": {
    "tags": []
   },
   "source": [
    "### outpatient_all"
   ]
  },
  {
   "cell_type": "markdown",
   "id": "73bf0c0d-8d7f-43f7-8760-1c4997e230a2",
   "metadata": {
    "tags": []
   },
   "source": [
    "#### Which outpatient providers have the highest number of outpatient services? "
   ]
  },
  {
   "cell_type": "code",
   "execution_count": 64,
   "id": "098ee9e1-e7d3-47f5-9588-890897ec10c7",
   "metadata": {},
   "outputs": [
    {
     "name": "stderr",
     "output_type": "stream",
     "text": [
      "[Stage 111:==========================================>              (3 + 1) / 4]\r"
     ]
    },
    {
     "name": "stdout",
     "output_type": "stream",
     "text": [
      "+-----------+--------------------+-----+\n",
      "|provider_id|       provider_name|count|\n",
      "+-----------+--------------------+-----+\n",
      "|     360180|    CLEVELAND CLINIC|   92|\n",
      "|     220116|TUFTS MEDICAL CENTER|   88|\n",
      "|     140276|LOYOLA UNIVERSITY...|   88|\n",
      "|      50599|UNIVERSITY OF CAL...|   88|\n",
      "|      50441|   STANFORD HOSPITAL|   87|\n",
      "|      50454| UCSF MEDICAL CENTER|   87|\n",
      "|     450054|SCOTT & WHITE MEM...|   87|\n",
      "|     220031|BOSTON MEDICAL CE...|   87|\n",
      "|     160058|UNIVERSITY OF IOW...|   87|\n",
      "|     230046|UNIVERSITY OF MIC...|   86|\n",
      "+-----------+--------------------+-----+\n",
      "only showing top 10 rows\n",
      "\n"
     ]
    },
    {
     "name": "stderr",
     "output_type": "stream",
     "text": [
      "                                                                                \r"
     ]
    }
   ],
   "source": [
    "from pyspark.sql.functions import desc\n",
    "\n",
    "outpatient_providers_count = outpatient_all.groupBy(\"provider_id\", \"provider_name\")\\\n",
    "                                               .count()\\\n",
    "                                               .sort(desc(\"count\"))\n",
    "\n",
    "# Show the provider id, name, and count for the top 10 providers with the highest number of outpatient services\n",
    "outpatient_providers_count.select(\"provider_id\", \"provider_name\", \"count\")\\\n",
    "                         .show(10)"
   ]
  },
  {
   "cell_type": "markdown",
   "id": "168a6916-7b23-4107-baf6-331c76a9448c",
   "metadata": {},
   "source": [
    "The output provided shows a list of outpatient providers and the count of outpatient services that they provide. The providers are ranked based on the number of outpatient services they provide, with the provider at the top of the list having the highest count of services provided.\n",
    "\n",
    "From the output, we can see that the Cleveland Clinic had the highest number of outpatient services provided, with a count of 92. Tufts Medical Center, Loyola University Medical Center, and University of California San Francisco Medical Center all had 88 outpatient services provided. \n",
    "\n",
    "This information can be useful for patients looking for a provider that offers a wide range of outpatient services or for healthcare organizations looking to collaborate with providers that offer specific outpatient services. It can also help healthcare organizations identify areas where there may be a high demand for certain outpatient services and allocate resources accordingly."
   ]
  },
  {
   "cell_type": "markdown",
   "id": "6c4dbeea-a6be-4775-b0a0-3c43f7466152",
   "metadata": {
    "tags": []
   },
   "source": [
    "#### What are the most common APC codes billed by outpatient providers in each hospital referral region? What is their average total payments?"
   ]
  },
  {
   "cell_type": "code",
   "execution_count": 65,
   "id": "1c25ffcc-15cf-4237-bc0d-b2aaa7bc912e",
   "metadata": {},
   "outputs": [
    {
     "name": "stderr",
     "output_type": "stream",
     "text": [
      "                                                                                \r"
     ]
    },
    {
     "name": "stdout",
     "output_type": "stream",
     "text": [
      "+----------------------------------------------------+----------------------+------------------------+----------------------+\n",
      "|apc                                                 |provider_name         |hospital_referral_region|average_total_payments|\n",
      "+----------------------------------------------------+----------------------+------------------------+----------------------+\n",
      "|0013 - Level II Debridement & Destruction           |HOLYOKE MEDICAL CENTER|MA - Springfield        |74.0                  |\n",
      "|0015 - Level III Debridement & Destruction          |HOLYOKE MEDICAL CENTER|MA - Springfield        |124.0                 |\n",
      "|0078 - Level III Pulmonary Treatment                |HOLYOKE MEDICAL CENTER|MA - Springfield        |119.0                 |\n",
      "|0096 - Level II Noninvasive Physiologic Studies     |HOLYOKE MEDICAL CENTER|MA - Springfield        |129.0                 |\n",
      "|0204 - Level I Nerve Injections                     |HOLYOKE MEDICAL CENTER|MA - Springfield        |217.0                 |\n",
      "|0207 - Level III Nerve Injections                   |HOLYOKE MEDICAL CENTER|MA - Springfield        |631.0                 |\n",
      "|0265 - Level I Diagnostic and Screening Ultrasound  |HOLYOKE MEDICAL CENTER|MA - Springfield        |76.0                  |\n",
      "|0267 - Level III Diagnostic and Screening Ultrasound|HOLYOKE MEDICAL CENTER|MA - Springfield        |183.0                 |\n",
      "|0269 - Level II Echocardiogram Without Contrast     |HOLYOKE MEDICAL CENTER|MA - Springfield        |473.0                 |\n",
      "|0368 - Level II Pulmonary Tests                     |HOLYOKE MEDICAL CENTER|MA - Springfield        |75.0                  |\n",
      "+----------------------------------------------------+----------------------+------------------------+----------------------+\n",
      "only showing top 10 rows\n",
      "\n"
     ]
    }
   ],
   "source": [
    "from pyspark.sql.functions import desc, rank\n",
    "from pyspark.sql.window import Window\n",
    "\n",
    "# get the top 10 most common APC codes for each hospital referral region\n",
    "w = Window.partitionBy(\"hospital_referral_region\").orderBy(desc(\"count\"))\n",
    "\n",
    "# group by hospital referral region and apc, and count the number of providers for each apc\n",
    "top_apc_per_region = outpatient_all.groupBy(\"hospital_referral_region\", \"apc\").count()\n",
    "\n",
    "# rank the APC codes by their frequency of occurrence within each referral region\n",
    "ranked_apc_per_region = top_apc_per_region.withColumn(\"rank\", rank().over(w)).filter(\"rank <= 10\")\n",
    "\n",
    "# join the result with the provider_name and average_total_payments to get the provider name and average total payments for each apc code\n",
    "result = ranked_apc_per_region.join(outpatient_all.select(\"provider_id\", \"provider_name\", \"hospital_referral_region\", \"apc\", \"average_total_payments\"),\n",
    "                                     [\"apc\", \"hospital_referral_region\"]).select(\"apc\", \"provider_name\",\n",
    "                                                                                  \"hospital_referral_region\", \"average_total_payments\")\n",
    "\n",
    "# show the top 10 most common APC codes and their corresponding providers and average total payments for each hospital referral region\n",
    "result.show(10, truncate=False)"
   ]
  },
  {
   "cell_type": "markdown",
   "id": "b776431d-c623-42a4-a38b-ff03aba5eecc",
   "metadata": {},
   "source": [
    "We can observe from the supplied output that there are considerable differences between the average total payments for each APC code. APC code 0013 (Level II Debridement & Destruction), for instance, has a minimumaverage total payment of 74.0 dollars, whereas APC code 0207 (Level III Nerve Injections) has a substantially greater average total payment of $631.0. This shows that the average total payments can be significantly impacted by the complexity and expense of the medical procedure linked with the APC code.\n",
    "\n",
    "We can also see that, for the listed APC codes, the Holyoke Medical Center seems to be the most popular outpatient provider in the MA - Springfield hospital referral zone. All ten APC codes have The Holyoke Medical Center listed as the provider, indicating that they are a large healthcare organization in the area."
   ]
  },
  {
   "cell_type": "markdown",
   "id": "0faac949-9793-4a5d-a7d9-395f3e5c5385",
   "metadata": {
    "tags": []
   },
   "source": [
    "### physicians_all"
   ]
  },
  {
   "cell_type": "markdown",
   "id": "1da29389-9d99-4e00-b8f5-5f4c64a2509c",
   "metadata": {
    "tags": []
   },
   "source": [
    "#### How does the number of services and average medicare payments vary across different provider types?"
   ]
  },
  {
   "cell_type": "code",
   "execution_count": 66,
   "id": "a10fb564-ab9b-4558-974e-28fca7b7e9b7",
   "metadata": {},
   "outputs": [
    {
     "name": "stderr",
     "output_type": "stream",
     "text": [
      "[Stage 121:=====================================================> (43 + 1) / 44]\r"
     ]
    },
    {
     "name": "stdout",
     "output_type": "stream",
     "text": [
      "+--------------------+------------------+---------------------+\n",
      "|       provider_type|mean_line_srvc_cnt|mean_medicare_payment|\n",
      "+--------------------+------------------+---------------------+\n",
      "|Diagnostic Radiology|126.09431332293495|    45.11464297899646|\n",
      "|     Sports Medicine|139.38057192001722|      79.936041000383|\n",
      "|Cardiac Electroph...|107.39584385061364|   122.29816298500675|\n",
      "|Mammographic Scre...|  670.630081300813|    66.56922633448619|\n",
      "|Geriatric Psychiatry|173.21035556709057|    71.89891593148808|\n",
      "|        Neurosurgery| 58.02592331895489|    251.6162047090343|\n",
      "|Certified Nurse M...|29.609528879425074|    41.07151464209631|\n",
      "|Physical Medicine...|242.27833159158055|    71.95320764384404|\n",
      "|Slide Preparation...|          3790.031|    42.61810089916452|\n",
      "|Public Health Wel...| 152.2909263838691|   26.111779998556425|\n",
      "|Speech Language P...|210.15572735191637|    78.19498280487325|\n",
      "|          Nephrology| 316.2854378762495|   101.40711011977234|\n",
      "|           Pathology|188.22995336265285|   35.690041946476974|\n",
      "|      Portable X-ray| 734.4833987146314|    24.09105309210842|\n",
      "|  Radiation Oncology|174.40774212735025|    139.7730920684178|\n",
      "|        Rheumatology| 695.1320607872267|    44.57762524213751|\n",
      "|     Family Practice|125.62528266643122|    41.98928726917993|\n",
      "|           Optometry|104.30814191004592|   56.352784409297406|\n",
      "|Hospice and Palli...| 78.32371170533027|    84.71042897218096|\n",
      "|  Geriatric Medicine|137.79475301434346|    67.38482350094856|\n",
      "+--------------------+------------------+---------------------+\n",
      "only showing top 20 rows\n",
      "\n"
     ]
    },
    {
     "name": "stderr",
     "output_type": "stream",
     "text": [
      "                                                                                \r"
     ]
    }
   ],
   "source": [
    "from pyspark.sql.functions import col, mean\n",
    "\n",
    "# Calculate the mean values for line_srvc_cnt and average_medicare_payment_amt by provider type\n",
    "services_by_provider_type = physicians_all.groupBy('provider_type').agg(mean('line_srvc_cnt').alias('mean_line_srvc_cnt'), mean('average_medicare_payment_amt').alias('mean_medicare_payment'))\n",
    "\n",
    "# Print the mean number of services and average Medicare payment by provider type\n",
    "services_by_provider_type.show()\n"
   ]
  },
  {
   "cell_type": "markdown",
   "id": "2743b96a-559a-4872-b08a-591f9d2c0699",
   "metadata": {},
   "source": [
    "The table displays the mean line service count and mean Medicare payment amount for different provider types. Each provider type is listed in the left-hand column, while the corresponding mean values are listed in the two right-hand columns. For example, the mean line service count for Diagnostic Radiology is 126.09, while the mean Medicare payment amount is 45.11. By analyzing these values, one can determine how the number of services and average Medicare payments vary across different provider types.\n",
    "\n",
    "\n",
    "\n"
   ]
  },
  {
   "cell_type": "markdown",
   "id": "605da96b-9a3b-4d0d-82ab-b32d53350b37",
   "metadata": {
    "tags": []
   },
   "source": [
    "#### How does the gender distribution vary with provider types and what is their average medicare payment ?\n"
   ]
  },
  {
   "cell_type": "code",
   "execution_count": 67,
   "id": "4d6f4669-82bb-413e-a47d-2b492951e51a",
   "metadata": {},
   "outputs": [
    {
     "name": "stderr",
     "output_type": "stream",
     "text": [
      "[Stage 124:=====================================================> (39 + 1) / 40]\r"
     ]
    },
    {
     "name": "stdout",
     "output_type": "stream",
     "text": [
      "+--------------------+---------------------+---------------------+\n",
      "|       provider_type|nppes_provider_gender|mean_medicare_payment|\n",
      "+--------------------+---------------------+---------------------+\n",
      "|Critical Care (In...|                    F|    89.76377202645524|\n",
      "|    Nuclear Medicine|                    F|     76.7403465395875|\n",
      "|  Allergy/Immunology|                    M|    39.09922682132526|\n",
      "|     General Surgery|                    M|   139.53058835115814|\n",
      "|    Vascular Surgery|                    M|   192.86632192714208|\n",
      "|Anesthesiologist ...|                    M|   101.07234049106668|\n",
      "|     Sports Medicine|                    F|   56.337250859202165|\n",
      "|Mammographic Scre...|                 null|    66.56922633448619|\n",
      "|  Orthopedic Surgery|                    F|    96.41641017172279|\n",
      "|     Family Practice|                    M|    41.72725672012916|\n",
      "|  Nurse Practitioner|                    F|   42.287748505434585|\n",
      "|  Pediatric Medicine|                    M|    52.25056043394964|\n",
      "|Anesthesiologist ...|                    F|    92.34514261597917|\n",
      "|Slide Preparation...|                 null|   42.754456157906226|\n",
      "|        Rheumatology|                    F|    46.86002708307739|\n",
      "|  Addiction Medicine|                    F|    55.31051201262616|\n",
      "|Public Health Wel...|                 null|    26.11086138744504|\n",
      "|  Pediatric Medicine|                    F|    53.67767508577244|\n",
      "|Licensed Clinical...|                    M|   50.033440079935644|\n",
      "|          Psychiatry|                    M|    65.74839438482459|\n",
      "+--------------------+---------------------+---------------------+\n",
      "only showing top 20 rows\n",
      "\n"
     ]
    },
    {
     "name": "stderr",
     "output_type": "stream",
     "text": [
      "                                                                                \r"
     ]
    }
   ],
   "source": [
    "# Calculate the mean values for average_medicare_payment_amt and nppes_provider_gender by provider type and gender\n",
    "payment_by_gender_and_provider_type = physicians_all.groupBy('provider_type', 'nppes_provider_gender').agg(mean('average_medicare_payment_amt').alias('mean_medicare_payment'))\n",
    "\n",
    "# Print the mean Medicare payment by provider type and gender\n",
    "payment_by_gender_and_provider_type.show()\n"
   ]
  },
  {
   "cell_type": "markdown",
   "id": "b366ffff-4ca5-468b-96a0-308f4ec40e84",
   "metadata": {},
   "source": [
    "The table shows the mean Medicare payment across different provider types and gender distributions. The provider types are listed on the left-hand side and the gender distributions are listed across the top. The mean Medicare payment for each combination of provider type and gender distribution is listed in the corresponding cell. For example, the mean Medicare payment for female providers in Critical Care (Intensivists) is 89.76 dollars, while the mean Medicare payment for male providers in General Surgery is $139.53. This information could be useful in identifying any disparities or trends in Medicare payments based on both provider type and gender.\n",
    "\n",
    "\n"
   ]
  },
  {
   "cell_type": "markdown",
   "id": "0a4c1768-db45-4d2a-bff4-67b0ac43ad86",
   "metadata": {
    "tags": []
   },
   "source": [
    "#### What is the distribution of top provider types in the data?\n",
    "\n"
   ]
  },
  {
   "cell_type": "code",
   "execution_count": 68,
   "id": "0dbb7922-7f03-4500-939c-d8fb6302088e",
   "metadata": {},
   "outputs": [
    {
     "name": "stderr",
     "output_type": "stream",
     "text": [
      "                                                                                \r"
     ]
    },
    {
     "data": {
      "image/png": "[encoded data removed]",
      "text/plain": [
       "<Figure size 1200x600 with 1 Axes>"
      ]
     },
     "metadata": {},
     "output_type": "display_data"
    }
   ],
   "source": [
    "import matplotlib.pyplot as plt\n",
    "\n",
    "# Count the number of providers in each provider type category\n",
    "provider_counts = physicians_all.groupBy('provider_type').count().orderBy('count', ascending=False).limit(30)\n",
    "\n",
    "# Convert the DataFrame to a Pandas DataFrame\n",
    "pandas_df = provider_counts.toPandas()\n",
    "\n",
    "# Create a bar chart using matplotlib\n",
    "plt.figure(figsize=(12,6))\n",
    "plt.bar(pandas_df['provider_type'], pandas_df['count'])\n",
    "plt.xticks(rotation=90)\n",
    "plt.xlabel('Provider Type')\n",
    "plt.ylabel('Count')\n",
    "plt.show()\n",
    "\n"
   ]
  },
  {
   "cell_type": "markdown",
   "id": "18f6a7e6-792a-47c7-a6c0-f57e7239b576",
   "metadata": {},
   "source": [
    "The chart generated shows that diagnostic radiology has the highest count of providers, while radiation oncology has the lowest count among the top 30 provider types."
   ]
  },
  {
   "cell_type": "markdown",
   "id": "69767834-7669-4a3c-8891-510a31ea2e60",
   "metadata": {
    "tags": []
   },
   "source": [
    "#### How do the average Medicare payments vary across different provider types and states?"
   ]
  },
  {
   "cell_type": "code",
   "execution_count": 69,
   "id": "f457b9d4-0833-4505-83ce-e51713f61fbe",
   "metadata": {},
   "outputs": [
    {
     "name": "stdout",
     "output_type": "stream",
     "text": [
      "root\n",
      " |-- nppes_provider_state: string (nullable = true)\n",
      " |-- provider_type: string (nullable = true)\n",
      " |-- mean_payment_amt: double (nullable = true)\n",
      "\n"
     ]
    },
    {
     "name": "stderr",
     "output_type": "stream",
     "text": [
      "[Stage 130:=====================================================> (39 + 1) / 40]\r"
     ]
    },
    {
     "name": "stdout",
     "output_type": "stream",
     "text": [
      "+--------------------+--------------------+------------------+\n",
      "|nppes_provider_state|       provider_type|  mean_payment_amt|\n",
      "+--------------------+--------------------+------------------+\n",
      "|                  NE|             Urology| 88.04786165589243|\n",
      "|                  ME|      Anesthesiology|104.21076886255939|\n",
      "|                  ND|      Otolaryngology|  53.3934633528341|\n",
      "|                  OK|     Cardiac Surgery|285.07652590841724|\n",
      "|                  VI|     General Surgery| 91.32115091932204|\n",
      "|                  AR|    Gastroenterology| 94.82823226573146|\n",
      "|                  NM|    Thoracic Surgery|247.84795470825307|\n",
      "|                  NC|   Surgical Oncology|127.85067461379234|\n",
      "|                  MN| Preventive Medicine| 54.26713793568851|\n",
      "|                  WY|Diagnostic Radiology| 42.62495594936626|\n",
      "+--------------------+--------------------+------------------+\n",
      "only showing top 10 rows\n",
      "\n"
     ]
    },
    {
     "name": "stderr",
     "output_type": "stream",
     "text": [
      "                                                                                \r"
     ]
    }
   ],
   "source": [
    "from pyspark.sql.functions import avg\n",
    "\n",
    "# Calculate the mean Medicare payment amount by state and provider type\n",
    "payments_by_state = physicians_all.groupBy('nppes_provider_state', 'provider_type') \\\n",
    "    .agg(avg('average_medicare_payment_amt').alias('mean_payment_amt'))\n",
    "\n",
    "# Print the schema and first few rows of the resulting DataFrame\n",
    "payments_by_state.printSchema()\n",
    "payments_by_state.show(10)\n"
   ]
  },
  {
   "cell_type": "markdown",
   "id": "a0afd501-31d7-4bf0-90e3-1a7c30cf7097",
   "metadata": {},
   "source": [
    "The table shown lists the average Medicare payment amounts for different provider types in each state. Each row corresponds to a combination of a state and a provider type, and the mean payment amount for that combination is shown in the rightmost column. For example, the first row shows that the average Medicare payment for Urology providers in Nebraska is 88.05 dollars, while the last row shows that the average Medicare payment for Diagnostic Radiology providers in Wyoming is $42.62. This information can be useful for understanding how Medicare payments vary across different provider types and states.\n",
    "\n",
    "\n",
    "\n"
   ]
  },
  {
   "cell_type": "markdown",
   "id": "06e6f0f8-ab2c-4986-8f34-165d5a30b4ad",
   "metadata": {
    "tags": []
   },
   "source": [
    "#### How does the distribution of the number of services vary across different HCPCS codes and provider types?"
   ]
  },
  {
   "cell_type": "code",
   "execution_count": 70,
   "id": "99dd1661-be9d-4b55-88a0-12bf6202ae8a",
   "metadata": {},
   "outputs": [
    {
     "name": "stdout",
     "output_type": "stream",
     "text": [
      "root\n",
      " |-- hcpcs_code: string (nullable = false)\n",
      " |-- provider_type: string (nullable = true)\n",
      " |-- total_services: double (nullable = true)\n",
      "\n"
     ]
    },
    {
     "name": "stderr",
     "output_type": "stream",
     "text": [
      "[Stage 133:=====================================================> (43 + 1) / 44]\r"
     ]
    },
    {
     "name": "stdout",
     "output_type": "stream",
     "text": [
      "+----------+-------------+--------------+\n",
      "|hcpcs_code|provider_type|total_services|\n",
      "+----------+-------------+--------------+\n",
      "|     95972|      Urology|       40598.0|\n",
      "|     90732|     Pharmacy|         103.0|\n",
      "|     95900|     Podiatry|       12077.0|\n",
      "|     36870|    Neurology|        1282.0|\n",
      "|     64635|    Neurology|        5565.0|\n",
      "|     95938|    Neurology|      183522.0|\n",
      "|     99354|    Neurology|       74275.0|\n",
      "|     17281|    Pathology|         783.0|\n",
      "|     83891|    Pathology|        7738.0|\n",
      "|     84100|    Pathology|       68714.0|\n",
      "+----------+-------------+--------------+\n",
      "only showing top 10 rows\n",
      "\n"
     ]
    },
    {
     "name": "stderr",
     "output_type": "stream",
     "text": [
      "                                                                                \r"
     ]
    }
   ],
   "source": [
    " from pyspark.sql.functions import sum\n",
    "\n",
    "# Calculate the total number of services by HCPCS code and provider type\n",
    "services_by_hcpcs = physicians_all.groupBy('hcpcs_code', 'provider_type') \\\n",
    "    .agg(sum('line_srvc_cnt').alias('total_services'))\n",
    "\n",
    "# Print the schema and first few rows of the resulting DataFrame\n",
    "services_by_hcpcs.printSchema()\n",
    "services_by_hcpcs.show(10)\n"
   ]
  },
  {
   "cell_type": "markdown",
   "id": "5ee59380-df17-4122-99cb-ffecc16093ca",
   "metadata": {},
   "source": [
    "The table displays the total number of services provided for each HCPCS (Healthcare Common Procedure Coding System) code and provider type combination. The HCPCS code is listed in the first column, while the provider type is listed in the second column. The total number of services for each combination is shown in the third column. For example, the combination of HCPCS code 95972 and provider type Urology has a total of 40,598 services provided. The table can be used to analyze the distribution of services across different HCPCS codes and provider types.\n",
    "\n",
    "\n"
   ]
  },
  {
   "cell_type": "markdown",
   "id": "548ed368-f81c-421e-b5eb-8eca348b7ed1",
   "metadata": {
    "tags": []
   },
   "source": [
    "#### How does the average Medicare payment vary by provider gender for the top 10 provider types?"
   ]
  },
  {
   "cell_type": "code",
   "execution_count": 71,
   "id": "b676acb9-20f3-4850-9820-2a8b648b467d",
   "metadata": {},
   "outputs": [
    {
     "name": "stderr",
     "output_type": "stream",
     "text": [
      "                                                                                \r"
     ]
    },
    {
     "data": {
      "image/png": "[encoded data removed]",
      "text/plain": [
       "<Figure size 1200x600 with 1 Axes>"
      ]
     },
     "metadata": {},
     "output_type": "display_data"
    }
   ],
   "source": [
    "import pyspark.sql.functions as F\n",
    "import pandas as pd\n",
    "import matplotlib.pyplot as plt\n",
    "\n",
    "# Calculate the mean Medicare payment amount by provider gender and provider type\n",
    "payments_by_gender = physicians_all.groupBy('nppes_provider_gender', 'provider_type') \\\n",
    "    .agg(F.mean('average_medicare_payment_amt').alias('mean_payment_amt'))\n",
    "\n",
    "# Calculate the total number of providers by provider type\n",
    "provider_counts = physicians_all.groupBy('provider_type').count().orderBy('count', ascending=False)\n",
    "\n",
    "# Select the top 10 provider types based on the total number of providers\n",
    "top_10_provider_types = provider_counts.limit(10).select('provider_type').rdd.flatMap(lambda x: x).collect()\n",
    "\n",
    "# Filter the payments_by_gender DataFrame to only include the top 10 provider types\n",
    "payments_by_gender_top10 = payments_by_gender.filter(payments_by_gender.provider_type.isin(top_10_provider_types))\n",
    "\n",
    "# Convert the payments_by_gender_top10 DataFrame to a Pandas DataFrame for plotting\n",
    "payments_by_gender_top10_pd = payments_by_gender_top10.toPandas()\n",
    "\n",
    "# Create a bar chart of the mean payment amounts by provider gender for each of the top 10 provider types\n",
    "fig, ax = plt.subplots(figsize=(12,6))\n",
    "for i, provider_type in enumerate(top_10_provider_types):\n",
    "    provider_data = payments_by_gender_top10_pd[payments_by_gender_top10_pd.provider_type == provider_type]\n",
    "    provider_data.plot(kind='bar', x='nppes_provider_gender', y='mean_payment_amt', ax=ax, color=f'C{i}', label=provider_type)\n",
    "plt.title('Mean Medicare Payment Amount by Provider Gender for Top 10 Provider Types')\n",
    "plt.xlabel('Provider Gender')\n",
    "plt.ylabel('Mean Medicare Payment Amount')\n",
    "plt.legend()\n",
    "plt.show()\n"
   ]
  },
  {
   "cell_type": "markdown",
   "id": "aed7a5c7-e4e8-4df9-b0ac-dbe59ae0660a",
   "metadata": {},
   "source": [
    "The given table shows the average Medicare payment for the top 10 provider types based on the gender of the provider. The provider types are listed on the y-axis, and the provider gender is indicated by \"F\" for female and \"M\" for male on the x-axis. The table shows that the average Medicare payment varies by provider gender for different provider types. For instance, in Emergency Medicine, the average payment for female providers is higher than that for male providers. Overall, the table provides insights into the relationship between provider gender and Medicare payment for the top 10 provider types.\n",
    "\n",
    "\n"
   ]
  },
  {
   "cell_type": "markdown",
   "id": "4c761a36-303a-4696-bc09-fdfd5dd18be7",
   "metadata": {
    "tags": []
   },
   "source": [
    "## V. Conclusion"
   ]
  },
  {
   "cell_type": "markdown",
   "id": "c45024c3-92b2-45d8-b1f8-6f62d5842bbd",
   "metadata": {},
   "source": [
    "The above analysis provides valuable insights into the healthcare industry in the United States. The inpatient and outpatient data provide information on the performance and popularity of healthcare providers across different regions, ownership types, and provider types. It also sheds light on the relationship between Medicare payments and provider gender, and how Medicare payments vary across different provider types and states.\n",
    "\n",
    "The hospital general information provides a comprehensive overview of hospital performance across different measures, including readmission, mortality, and safety. It also shows how hospital ownership and type influence hospital ratings and highlights which regions have high or low average hospital ratings.\n",
    "\n",
    "The physician data provides insights into the distribution of top provider types, the number of services provided across different HCPCS codes and provider types, and the average Medicare payment by provider gender and provider type.\n",
    "\n",
    "Overall, the analysis provides a wealth of information that can be useful for patients, healthcare providers, and policy-makers. It can help identify areas where more resources are needed, and where improvement is required to enhance the quality and affordability of healthcare services.\n",
    "\n",
    "Additionally, we can perform further analysis to gain more insights and make more informed decisions. For example, we can conduct a deeper analysis of the factors affecting hospital ratings, such as patient satisfaction and hospital performance metrics. We can also explore the relationship between hospital ownership type and Medicare payments. In the physician data, we can investigate the relationship between provider gender and Medicare payments for other provider types. These additional analyses can provide valuable insights that can help improve healthcare delivery and patient outcomes."
   ]
  },
  {
   "cell_type": "markdown",
   "id": "3f672586-6747-46e9-b156-f44a8676d4e6",
   "metadata": {},
   "source": [
    "## VI. Reference"
   ]
  },
  {
   "cell_type": "markdown",
   "id": "5de67027-5621-414b-9eb5-2cd7898c21c5",
   "metadata": {},
   "source": [
    "“Where Developers Learn, Share, &amp; Build Careers.” Stack Overflow, https://stackoverflow.com/. \n",
    "\n",
    "For ChatGpt, we used it for debugging the errors.\n",
    "\n",
    "“Jupyter Notebook - Markdown Cells.” Tutorials Point, https://www.tutorialspoint.com/jupyter/jupyter_notebook_markdown_cells.htm.\n",
    "\n",
    "“Seaborn.barplot() Method in Python.” GeeksforGeeks, GeeksforGeeks, 16 June 2021, https://www.geeksforgeeks.org/seaborn-barplot-method-in-python/. \n"
   ]
  }
 ],
 "metadata": {
  "kernelspec": {
   "display_name": "Python 3 (ipykernel)",
   "language": "python",
   "name": "python3"
  },
  "language_info": {
   "codemirror_mode": {
    "name": "ipython",
    "version": 3
   },
   "file_extension": ".py",
   "mimetype": "text/x-python",
   "name": "python",
   "nbconvert_exporter": "python",
   "pygments_lexer": "ipython3",
   "version": "3.9.12"
  }
 },
 "nbformat": 4,
 "nbformat_minor": 5
}
